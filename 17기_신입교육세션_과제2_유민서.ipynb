{
 "cells": [
  {
   "cell_type": "markdown",
   "id": "65eefa16",
   "metadata": {},
   "source": [
    "# 관심있는 주제와 데이터 \n",
    "- 주제: 일론 머스트의 트윗이 테슬라 주가 변동에 미치는 영향 분석을 통한 단기 매매 전략 수립\n",
    "- 데이터 : https://www.kaggle.com/datasets/varpit94/tesla-stock-data-updated-till-28jun2021\n",
    "- 테슬라 주가는 실적, 생산량, 경제 지표와 같은 전통적 요인 뿐만 아니라 일론 머스크의 트윗과 발언에도 민감하게 반응하는 특징을 보인다.  \n",
    "  이에 머스크 트윗에 테슬라 주가가 얼마나 변동하며, 다시 안정되기까지 얼마만큼의 시간이 소요되는지를 분석하여 단기 매매 전략을 수립하거나, 장기 투자의 필요성을 강조한다."
   ]
  },
  {
   "cell_type": "markdown",
   "id": "e018216f",
   "metadata": {},
   "source": [
    "# Titanic 데이터 전처리 & EDA\n",
    "\n",
    "## 0. 개요\n",
    "### (1)Titanic 데이터 배경지식\n",
    "    - 1912년 4월 15일 RMS Titanic 이 북대서양에서 빙산과 충돌하여 침몰한 사건을 바탕으로 만들어진 데이터셋\n",
    "    - '여자와 아이들 먼저' 라는 구조 원칙을 적용했다 \n",
    "    \n",
    "### (2)데이터셋의 구성  \n",
    "- survived : 생진 여부 (사망 = 0 , 생죤 = 1)\n",
    "- Pclass : 객신 등급 (1등석 = 1 , 2등석 = 2 , 3등석 = 3)\n",
    "- Name : 승객 이름\n",
    "- Sex : 성별\n",
    "- Age: 나이\n",
    "- SibSp: 같이 탄 형제/ 배우자 수\n",
    "- Parch : 같이 탄 부모/ 자식 수\n",
    "- Ticket : 티켓 번호\n",
    "- Fare : 요금\n",
    "- Cabin : 객실 번호\n",
    "-Embarked : 탑승한 항구 ( C, Q , S )\n",
    "\n",
    "### (3)가설\n",
    " 1. 남성보다 여성의 생존률이 더 높을 것이다. \n",
    " 2. 1등석 생존률이 2등석, 3등석 생존률보다 높을 것이다.\n",
    " 3. 어린이가 어른보다 생존률이 높을 것이다."
   ]
  },
  {
   "cell_type": "markdown",
   "id": "60dde063",
   "metadata": {},
   "source": [
    "# 1.1 라이브러리 불러오기"
   ]
  },
  {
   "cell_type": "code",
   "execution_count": 51,
   "id": "7d588d17",
   "metadata": {},
   "outputs": [],
   "source": [
    "import pandas as pd\n",
    "import numpy as np\n",
    "import seaborn as sns"
   ]
  },
  {
   "cell_type": "markdown",
   "id": "30213897",
   "metadata": {},
   "source": [
    "# 1.2 데이터 불러오기\n",
    " - titanic 데이터를 불러와 df 라는 변수에 담는다"
   ]
  },
  {
   "cell_type": "code",
   "execution_count": 52,
   "id": "727bfa3d",
   "metadata": {},
   "outputs": [],
   "source": [
    "df = pd.read_csv(r\"C:\\Users\\yms10\\BAF-17-Fresh-Eduu\\Titanic-Dataset.csv\")"
   ]
  },
  {
   "cell_type": "markdown",
   "id": "5e737ec0",
   "metadata": {},
   "source": [
    "# 2. 데이터 미리보기\n",
    " - head, tail, info, shape 등을 사용하여 데이터 정보 확인하기\n",
    " - column명도 확인한다"
   ]
  },
  {
   "cell_type": "code",
   "execution_count": 53,
   "id": "c8edeed7",
   "metadata": {},
   "outputs": [
    {
     "data": {
      "text/html": [
       "<div>\n",
       "<style scoped>\n",
       "    .dataframe tbody tr th:only-of-type {\n",
       "        vertical-align: middle;\n",
       "    }\n",
       "\n",
       "    .dataframe tbody tr th {\n",
       "        vertical-align: top;\n",
       "    }\n",
       "\n",
       "    .dataframe thead th {\n",
       "        text-align: right;\n",
       "    }\n",
       "</style>\n",
       "<table border=\"1\" class=\"dataframe\">\n",
       "  <thead>\n",
       "    <tr style=\"text-align: right;\">\n",
       "      <th></th>\n",
       "      <th>PassengerId</th>\n",
       "      <th>Survived</th>\n",
       "      <th>Pclass</th>\n",
       "      <th>Name</th>\n",
       "      <th>Sex</th>\n",
       "      <th>Age</th>\n",
       "      <th>SibSp</th>\n",
       "      <th>Parch</th>\n",
       "      <th>Ticket</th>\n",
       "      <th>Fare</th>\n",
       "      <th>Cabin</th>\n",
       "      <th>Embarked</th>\n",
       "    </tr>\n",
       "  </thead>\n",
       "  <tbody>\n",
       "    <tr>\n",
       "      <th>0</th>\n",
       "      <td>1</td>\n",
       "      <td>0</td>\n",
       "      <td>3</td>\n",
       "      <td>Braund, Mr. Owen Harris</td>\n",
       "      <td>male</td>\n",
       "      <td>22.0</td>\n",
       "      <td>1</td>\n",
       "      <td>0</td>\n",
       "      <td>A/5 21171</td>\n",
       "      <td>7.2500</td>\n",
       "      <td>NaN</td>\n",
       "      <td>S</td>\n",
       "    </tr>\n",
       "    <tr>\n",
       "      <th>1</th>\n",
       "      <td>2</td>\n",
       "      <td>1</td>\n",
       "      <td>1</td>\n",
       "      <td>Cumings, Mrs. John Bradley (Florence Briggs Th...</td>\n",
       "      <td>female</td>\n",
       "      <td>38.0</td>\n",
       "      <td>1</td>\n",
       "      <td>0</td>\n",
       "      <td>PC 17599</td>\n",
       "      <td>71.2833</td>\n",
       "      <td>C85</td>\n",
       "      <td>C</td>\n",
       "    </tr>\n",
       "    <tr>\n",
       "      <th>2</th>\n",
       "      <td>3</td>\n",
       "      <td>1</td>\n",
       "      <td>3</td>\n",
       "      <td>Heikkinen, Miss. Laina</td>\n",
       "      <td>female</td>\n",
       "      <td>26.0</td>\n",
       "      <td>0</td>\n",
       "      <td>0</td>\n",
       "      <td>STON/O2. 3101282</td>\n",
       "      <td>7.9250</td>\n",
       "      <td>NaN</td>\n",
       "      <td>S</td>\n",
       "    </tr>\n",
       "    <tr>\n",
       "      <th>3</th>\n",
       "      <td>4</td>\n",
       "      <td>1</td>\n",
       "      <td>1</td>\n",
       "      <td>Futrelle, Mrs. Jacques Heath (Lily May Peel)</td>\n",
       "      <td>female</td>\n",
       "      <td>35.0</td>\n",
       "      <td>1</td>\n",
       "      <td>0</td>\n",
       "      <td>113803</td>\n",
       "      <td>53.1000</td>\n",
       "      <td>C123</td>\n",
       "      <td>S</td>\n",
       "    </tr>\n",
       "    <tr>\n",
       "      <th>4</th>\n",
       "      <td>5</td>\n",
       "      <td>0</td>\n",
       "      <td>3</td>\n",
       "      <td>Allen, Mr. William Henry</td>\n",
       "      <td>male</td>\n",
       "      <td>35.0</td>\n",
       "      <td>0</td>\n",
       "      <td>0</td>\n",
       "      <td>373450</td>\n",
       "      <td>8.0500</td>\n",
       "      <td>NaN</td>\n",
       "      <td>S</td>\n",
       "    </tr>\n",
       "  </tbody>\n",
       "</table>\n",
       "</div>"
      ],
      "text/plain": [
       "   PassengerId  Survived  Pclass  \\\n",
       "0            1         0       3   \n",
       "1            2         1       1   \n",
       "2            3         1       3   \n",
       "3            4         1       1   \n",
       "4            5         0       3   \n",
       "\n",
       "                                                Name     Sex   Age  SibSp  \\\n",
       "0                            Braund, Mr. Owen Harris    male  22.0      1   \n",
       "1  Cumings, Mrs. John Bradley (Florence Briggs Th...  female  38.0      1   \n",
       "2                             Heikkinen, Miss. Laina  female  26.0      0   \n",
       "3       Futrelle, Mrs. Jacques Heath (Lily May Peel)  female  35.0      1   \n",
       "4                           Allen, Mr. William Henry    male  35.0      0   \n",
       "\n",
       "   Parch            Ticket     Fare Cabin Embarked  \n",
       "0      0         A/5 21171   7.2500   NaN        S  \n",
       "1      0          PC 17599  71.2833   C85        C  \n",
       "2      0  STON/O2. 3101282   7.9250   NaN        S  \n",
       "3      0            113803  53.1000  C123        S  \n",
       "4      0            373450   8.0500   NaN        S  "
      ]
     },
     "execution_count": 53,
     "metadata": {},
     "output_type": "execute_result"
    }
   ],
   "source": [
    "df.head()"
   ]
  },
  {
   "cell_type": "code",
   "execution_count": 54,
   "id": "1aa74813",
   "metadata": {},
   "outputs": [
    {
     "data": {
      "text/plain": [
       "(891, 12)"
      ]
     },
     "execution_count": 54,
     "metadata": {},
     "output_type": "execute_result"
    }
   ],
   "source": [
    "df.shape  #891행 12열"
   ]
  },
  {
   "cell_type": "code",
   "execution_count": 55,
   "id": "94ee0c3e",
   "metadata": {},
   "outputs": [
    {
     "data": {
      "text/plain": [
       "<bound method DataFrame.info of      PassengerId  Survived  Pclass  \\\n",
       "0              1         0       3   \n",
       "1              2         1       1   \n",
       "2              3         1       3   \n",
       "3              4         1       1   \n",
       "4              5         0       3   \n",
       "..           ...       ...     ...   \n",
       "886          887         0       2   \n",
       "887          888         1       1   \n",
       "888          889         0       3   \n",
       "889          890         1       1   \n",
       "890          891         0       3   \n",
       "\n",
       "                                                  Name     Sex   Age  SibSp  \\\n",
       "0                              Braund, Mr. Owen Harris    male  22.0      1   \n",
       "1    Cumings, Mrs. John Bradley (Florence Briggs Th...  female  38.0      1   \n",
       "2                               Heikkinen, Miss. Laina  female  26.0      0   \n",
       "3         Futrelle, Mrs. Jacques Heath (Lily May Peel)  female  35.0      1   \n",
       "4                             Allen, Mr. William Henry    male  35.0      0   \n",
       "..                                                 ...     ...   ...    ...   \n",
       "886                              Montvila, Rev. Juozas    male  27.0      0   \n",
       "887                       Graham, Miss. Margaret Edith  female  19.0      0   \n",
       "888           Johnston, Miss. Catherine Helen \"Carrie\"  female   NaN      1   \n",
       "889                              Behr, Mr. Karl Howell    male  26.0      0   \n",
       "890                                Dooley, Mr. Patrick    male  32.0      0   \n",
       "\n",
       "     Parch            Ticket     Fare Cabin Embarked  \n",
       "0        0         A/5 21171   7.2500   NaN        S  \n",
       "1        0          PC 17599  71.2833   C85        C  \n",
       "2        0  STON/O2. 3101282   7.9250   NaN        S  \n",
       "3        0            113803  53.1000  C123        S  \n",
       "4        0            373450   8.0500   NaN        S  \n",
       "..     ...               ...      ...   ...      ...  \n",
       "886      0            211536  13.0000   NaN        S  \n",
       "887      0            112053  30.0000   B42        S  \n",
       "888      2        W./C. 6607  23.4500   NaN        S  \n",
       "889      0            111369  30.0000  C148        C  \n",
       "890      0            370376   7.7500   NaN        Q  \n",
       "\n",
       "[891 rows x 12 columns]>"
      ]
     },
     "execution_count": 55,
     "metadata": {},
     "output_type": "execute_result"
    }
   ],
   "source": [
    "df.info"
   ]
  },
  {
   "cell_type": "code",
   "execution_count": 56,
   "id": "680c5912",
   "metadata": {},
   "outputs": [
    {
     "data": {
      "text/plain": [
       "Index(['PassengerId', 'Survived', 'Pclass', 'Name', 'Sex', 'Age', 'SibSp',\n",
       "       'Parch', 'Ticket', 'Fare', 'Cabin', 'Embarked'],\n",
       "      dtype='object')"
      ]
     },
     "execution_count": 56,
     "metadata": {},
     "output_type": "execute_result"
    }
   ],
   "source": [
    "df.columns"
   ]
  },
  {
   "cell_type": "code",
   "execution_count": 57,
   "id": "64b26b72",
   "metadata": {},
   "outputs": [
    {
     "data": {
      "text/plain": [
       "PassengerId      int64\n",
       "Survived         int64\n",
       "Pclass           int64\n",
       "Name            object\n",
       "Sex             object\n",
       "Age            float64\n",
       "SibSp            int64\n",
       "Parch            int64\n",
       "Ticket          object\n",
       "Fare           float64\n",
       "Cabin           object\n",
       "Embarked        object\n",
       "dtype: object"
      ]
     },
     "execution_count": 57,
     "metadata": {},
     "output_type": "execute_result"
    }
   ],
   "source": [
    "# 데이터 타입 확인하기\n",
    "df.dtypes"
   ]
  },
  {
   "cell_type": "markdown",
   "id": "0eb0d22f",
   "metadata": {},
   "source": [
    "# 3. 결측치 처리하기"
   ]
  },
  {
   "cell_type": "markdown",
   "id": "45d8f0ee",
   "metadata": {},
   "source": [
    "## 3.1 isnull 을 이용해 결측치를 확인하고 시각화한다"
   ]
  },
  {
   "cell_type": "code",
   "execution_count": 58,
   "id": "f03545de",
   "metadata": {},
   "outputs": [
    {
     "data": {
      "text/plain": [
       "PassengerId      0\n",
       "Survived         0\n",
       "Pclass           0\n",
       "Name             0\n",
       "Sex              0\n",
       "Age            177\n",
       "SibSp            0\n",
       "Parch            0\n",
       "Ticket           0\n",
       "Fare             0\n",
       "Cabin          687\n",
       "Embarked         2\n",
       "dtype: int64"
      ]
     },
     "execution_count": 58,
     "metadata": {},
     "output_type": "execute_result"
    }
   ],
   "source": [
    "df.isnull().sum() #각 칼럼별로 결측치의 갯수를 세서 더한 값  => Age 와 Cabin, Embarked 열만 결측치가 있다"
   ]
  },
  {
   "cell_type": "code",
   "execution_count": 59,
   "id": "b95303b2",
   "metadata": {},
   "outputs": [
    {
     "data": {
      "text/plain": [
       "<Axes: >"
      ]
     },
     "execution_count": 59,
     "metadata": {},
     "output_type": "execute_result"
    },
    {
     "data": {
      "image/png": "[encoded data removed]",
      "text/plain": [
       "<Figure size 640x480 with 1 Axes>"
      ]
     },
     "metadata": {},
     "output_type": "display_data"
    }
   ],
   "source": [
    "null_count = df.isnull().sum()\n",
    "null_count.plot.barh() #열별로 결측치의 수를 그래프로 나타냈다."
   ]
  },
  {
   "cell_type": "code",
   "execution_count": 60,
   "id": "31d1e613",
   "metadata": {},
   "outputs": [
    {
     "data": {
      "text/html": [
       "<div>\n",
       "<style scoped>\n",
       "    .dataframe tbody tr th:only-of-type {\n",
       "        vertical-align: middle;\n",
       "    }\n",
       "\n",
       "    .dataframe tbody tr th {\n",
       "        vertical-align: top;\n",
       "    }\n",
       "\n",
       "    .dataframe thead th {\n",
       "        text-align: right;\n",
       "    }\n",
       "</style>\n",
       "<table border=\"1\" class=\"dataframe\">\n",
       "  <thead>\n",
       "    <tr style=\"text-align: right;\">\n",
       "      <th></th>\n",
       "      <th>index</th>\n",
       "      <th>0</th>\n",
       "    </tr>\n",
       "  </thead>\n",
       "  <tbody>\n",
       "    <tr>\n",
       "      <th>0</th>\n",
       "      <td>PassengerId</td>\n",
       "      <td>0</td>\n",
       "    </tr>\n",
       "    <tr>\n",
       "      <th>1</th>\n",
       "      <td>Survived</td>\n",
       "      <td>0</td>\n",
       "    </tr>\n",
       "    <tr>\n",
       "      <th>2</th>\n",
       "      <td>Pclass</td>\n",
       "      <td>0</td>\n",
       "    </tr>\n",
       "    <tr>\n",
       "      <th>3</th>\n",
       "      <td>Name</td>\n",
       "      <td>0</td>\n",
       "    </tr>\n",
       "    <tr>\n",
       "      <th>4</th>\n",
       "      <td>Sex</td>\n",
       "      <td>0</td>\n",
       "    </tr>\n",
       "    <tr>\n",
       "      <th>5</th>\n",
       "      <td>Age</td>\n",
       "      <td>177</td>\n",
       "    </tr>\n",
       "    <tr>\n",
       "      <th>6</th>\n",
       "      <td>SibSp</td>\n",
       "      <td>0</td>\n",
       "    </tr>\n",
       "    <tr>\n",
       "      <th>7</th>\n",
       "      <td>Parch</td>\n",
       "      <td>0</td>\n",
       "    </tr>\n",
       "    <tr>\n",
       "      <th>8</th>\n",
       "      <td>Ticket</td>\n",
       "      <td>0</td>\n",
       "    </tr>\n",
       "    <tr>\n",
       "      <th>9</th>\n",
       "      <td>Fare</td>\n",
       "      <td>0</td>\n",
       "    </tr>\n",
       "    <tr>\n",
       "      <th>10</th>\n",
       "      <td>Cabin</td>\n",
       "      <td>687</td>\n",
       "    </tr>\n",
       "    <tr>\n",
       "      <th>11</th>\n",
       "      <td>Embarked</td>\n",
       "      <td>2</td>\n",
       "    </tr>\n",
       "  </tbody>\n",
       "</table>\n",
       "</div>"
      ],
      "text/plain": [
       "          index    0\n",
       "0   PassengerId    0\n",
       "1      Survived    0\n",
       "2        Pclass    0\n",
       "3          Name    0\n",
       "4           Sex    0\n",
       "5           Age  177\n",
       "6         SibSp    0\n",
       "7         Parch    0\n",
       "8        Ticket    0\n",
       "9          Fare    0\n",
       "10        Cabin  687\n",
       "11     Embarked    2"
      ]
     },
     "execution_count": 60,
     "metadata": {},
     "output_type": "execute_result"
    }
   ],
   "source": [
    "# 결측치 정보를 데이터 프레임 형태로 변환 => df_null_count 라는 변수에 담는다\n",
    "df_null_count = null_count.reset_index()\n",
    "df_null_count"
   ]
  },
  {
   "cell_type": "code",
   "execution_count": 61,
   "id": "d5fc9073",
   "metadata": {},
   "outputs": [
    {
     "data": {
      "text/html": [
       "<div>\n",
       "<style scoped>\n",
       "    .dataframe tbody tr th:only-of-type {\n",
       "        vertical-align: middle;\n",
       "    }\n",
       "\n",
       "    .dataframe tbody tr th {\n",
       "        vertical-align: top;\n",
       "    }\n",
       "\n",
       "    .dataframe thead th {\n",
       "        text-align: right;\n",
       "    }\n",
       "</style>\n",
       "<table border=\"1\" class=\"dataframe\">\n",
       "  <thead>\n",
       "    <tr style=\"text-align: right;\">\n",
       "      <th></th>\n",
       "      <th>column name</th>\n",
       "      <th>null_count</th>\n",
       "    </tr>\n",
       "  </thead>\n",
       "  <tbody>\n",
       "    <tr>\n",
       "      <th>10</th>\n",
       "      <td>Cabin</td>\n",
       "      <td>687</td>\n",
       "    </tr>\n",
       "    <tr>\n",
       "      <th>5</th>\n",
       "      <td>Age</td>\n",
       "      <td>177</td>\n",
       "    </tr>\n",
       "    <tr>\n",
       "      <th>11</th>\n",
       "      <td>Embarked</td>\n",
       "      <td>2</td>\n",
       "    </tr>\n",
       "    <tr>\n",
       "      <th>0</th>\n",
       "      <td>PassengerId</td>\n",
       "      <td>0</td>\n",
       "    </tr>\n",
       "    <tr>\n",
       "      <th>3</th>\n",
       "      <td>Name</td>\n",
       "      <td>0</td>\n",
       "    </tr>\n",
       "    <tr>\n",
       "      <th>2</th>\n",
       "      <td>Pclass</td>\n",
       "      <td>0</td>\n",
       "    </tr>\n",
       "    <tr>\n",
       "      <th>1</th>\n",
       "      <td>Survived</td>\n",
       "      <td>0</td>\n",
       "    </tr>\n",
       "    <tr>\n",
       "      <th>4</th>\n",
       "      <td>Sex</td>\n",
       "      <td>0</td>\n",
       "    </tr>\n",
       "    <tr>\n",
       "      <th>7</th>\n",
       "      <td>Parch</td>\n",
       "      <td>0</td>\n",
       "    </tr>\n",
       "    <tr>\n",
       "      <th>6</th>\n",
       "      <td>SibSp</td>\n",
       "      <td>0</td>\n",
       "    </tr>\n",
       "    <tr>\n",
       "      <th>9</th>\n",
       "      <td>Fare</td>\n",
       "      <td>0</td>\n",
       "    </tr>\n",
       "    <tr>\n",
       "      <th>8</th>\n",
       "      <td>Ticket</td>\n",
       "      <td>0</td>\n",
       "    </tr>\n",
       "  </tbody>\n",
       "</table>\n",
       "</div>"
      ],
      "text/plain": [
       "    column name  null_count\n",
       "10        Cabin         687\n",
       "5           Age         177\n",
       "11     Embarked           2\n",
       "0   PassengerId           0\n",
       "3          Name           0\n",
       "2        Pclass           0\n",
       "1      Survived           0\n",
       "4           Sex           0\n",
       "7         Parch           0\n",
       "6         SibSp           0\n",
       "9          Fare           0\n",
       "8        Ticket           0"
      ]
     },
     "execution_count": 61,
     "metadata": {},
     "output_type": "execute_result"
    }
   ],
   "source": [
    "#df_null_count 칼럼명을 지정하고, 결측치가 많은 순으로 정렬한다\n",
    "df_null_count.columns = [\"column name\", \"null_count\"]  #이름 지정\n",
    "df_null_count.sort_values(\"null_count\", ascending= False) #결측치 많은 순으로 내림차순 정렬\n"
   ]
  },
  {
   "cell_type": "markdown",
   "id": "a9307dff",
   "metadata": {},
   "source": [
    "## 3.2 결측치 처리하기\n",
    " - Cabin : 결측 비율이 높으므로 제거한다.  \n",
    " - Age : 중요한 정보이므로 평균값으로 채운다.  \n",
    " - Embarked : 결측치가 2개뿐이고, 선택지가 3가지 뿐으므로 최빈값으로 채운다."
   ]
  },
  {
   "cell_type": "markdown",
   "id": "10c2e86e",
   "metadata": {},
   "source": [
    "### 3.2.1 cabin 제거하기"
   ]
  },
  {
   "cell_type": "code",
   "execution_count": 62,
   "id": "fe60fb51",
   "metadata": {},
   "outputs": [
    {
     "data": {
      "text/plain": [
       "(891, 12)"
      ]
     },
     "execution_count": 62,
     "metadata": {},
     "output_type": "execute_result"
    }
   ],
   "source": [
    "df.shape"
   ]
  },
  {
   "cell_type": "code",
   "execution_count": 63,
   "id": "c8a0a825",
   "metadata": {},
   "outputs": [
    {
     "data": {
      "text/plain": [
       "(891, 11)"
      ]
     },
     "execution_count": 63,
     "metadata": {},
     "output_type": "execute_result"
    }
   ],
   "source": [
    "df = df.drop(\"Cabin\", axis= 1) #cabin column 삭제\n",
    "df.shape #열이 12개에서 11개로 줄었다."
   ]
  },
  {
   "cell_type": "markdown",
   "id": "936ff952",
   "metadata": {},
   "source": [
    "### 3.2.2 Age 결측치 채우기\n",
    " 1. 평균값 구하기  \n",
    " 2. 결측치 채우기"
   ]
  },
  {
   "cell_type": "code",
   "execution_count": 64,
   "id": "e41001a8",
   "metadata": {},
   "outputs": [],
   "source": [
    "# 1. 평균값 구해서 변수에 할당하기\n",
    "age_mean = df[\"Age\"].mean()"
   ]
  },
  {
   "cell_type": "code",
   "execution_count": 65,
   "id": "29182ea2",
   "metadata": {},
   "outputs": [
    {
     "name": "stderr",
     "output_type": "stream",
     "text": [
      "C:\\Users\\yms10\\AppData\\Local\\Temp\\ipykernel_16196\\2256218100.py:2: FutureWarning: A value is trying to be set on a copy of a DataFrame or Series through chained assignment using an inplace method.\n",
      "The behavior will change in pandas 3.0. This inplace method will never work because the intermediate object on which we are setting values always behaves as a copy.\n",
      "\n",
      "For example, when doing 'df[col].method(value, inplace=True)', try using 'df.method({col: value}, inplace=True)' or df[col] = df[col].method(value) instead, to perform the operation inplace on the original object.\n",
      "\n",
      "\n",
      "  df[\"Age\"].fillna(age_mean,inplace= True)\n"
     ]
    }
   ],
   "source": [
    "# 2. 결측치 채우기\n",
    "df[\"Age\"].fillna(age_mean,inplace= True)"
   ]
  },
  {
   "cell_type": "code",
   "execution_count": 66,
   "id": "ab92824e",
   "metadata": {},
   "outputs": [
    {
     "data": {
      "text/plain": [
       "np.int64(0)"
      ]
     },
     "execution_count": 66,
     "metadata": {},
     "output_type": "execute_result"
    }
   ],
   "source": [
    "# 3. Age 결측치 잘 채워졌나 확인\n",
    "df[\"Age\"].isnull().sum()"
   ]
  },
  {
   "cell_type": "markdown",
   "id": "2c3f89fc",
   "metadata": {},
   "source": [
    "### 3.2.3 Embarked 결측치 채우기\n",
    " 1. 최빈값 구하기  \n",
    " 2. 결측치 채우기"
   ]
  },
  {
   "cell_type": "code",
   "execution_count": 67,
   "id": "1c068549",
   "metadata": {},
   "outputs": [],
   "source": [
    "# 1. 최빈값 구해서 변수 할당 => 최빈값은 S다!\n",
    "df[\"Embarked\"].value_counts()\n",
    "\n",
    "embarked_many = df[\"Embarked\"].mode()[0]"
   ]
  },
  {
   "cell_type": "code",
   "execution_count": 68,
   "id": "8414d0a8",
   "metadata": {},
   "outputs": [
    {
     "name": "stderr",
     "output_type": "stream",
     "text": [
      "C:\\Users\\yms10\\AppData\\Local\\Temp\\ipykernel_16196\\488315272.py:2: FutureWarning: A value is trying to be set on a copy of a DataFrame or Series through chained assignment using an inplace method.\n",
      "The behavior will change in pandas 3.0. This inplace method will never work because the intermediate object on which we are setting values always behaves as a copy.\n",
      "\n",
      "For example, when doing 'df[col].method(value, inplace=True)', try using 'df.method({col: value}, inplace=True)' or df[col] = df[col].method(value) instead, to perform the operation inplace on the original object.\n",
      "\n",
      "\n",
      "  df [\"Embarked\"].fillna(embarked_many, inplace= True)\n"
     ]
    }
   ],
   "source": [
    "# 2. s 로 결측치 채운다.\n",
    "df [\"Embarked\"].fillna(embarked_many, inplace= True)"
   ]
  },
  {
   "cell_type": "code",
   "execution_count": 69,
   "id": "38e6dca9",
   "metadata": {},
   "outputs": [
    {
     "data": {
      "text/plain": [
       "np.int64(0)"
      ]
     },
     "execution_count": 69,
     "metadata": {},
     "output_type": "execute_result"
    }
   ],
   "source": [
    "#3. 결측치 사라졌나 확인\n",
    "df[\"Embarked\"].isnull().sum()"
   ]
  },
  {
   "cell_type": "markdown",
   "id": "ebddb29b",
   "metadata": {},
   "source": [
    "# 4 . 데이터 분석"
   ]
  },
  {
   "cell_type": "markdown",
   "id": "51c5a510",
   "metadata": {},
   "source": [
    "## 4.1 성별에 따른 생존자 분석"
   ]
  },
  {
   "cell_type": "code",
   "execution_count": 70,
   "id": "82df8e7b",
   "metadata": {},
   "outputs": [
    {
     "data": {
      "text/plain": [
       "Sex     Survived\n",
       "female  1           0.742038\n",
       "        0           0.257962\n",
       "male    0           0.811092\n",
       "        1           0.188908\n",
       "Name: proportion, dtype: float64"
      ]
     },
     "execution_count": 70,
     "metadata": {},
     "output_type": "execute_result"
    }
   ],
   "source": [
    "#1. 성별에 따른 생존자 비율 구하기\n",
    "df.groupby(\"Sex\")[\"Survived\"].value_counts(normalize= True) "
   ]
  },
  {
   "cell_type": "code",
   "execution_count": 71,
   "id": "46a0dcde",
   "metadata": {},
   "outputs": [
    {
     "data": {
      "text/plain": [
       "<Axes: xlabel='Sex', ylabel='Survived'>"
      ]
     },
     "execution_count": 71,
     "metadata": {},
     "output_type": "execute_result"
    },
    {
     "data": {
      "image/png": "[encoded data removed]",
      "text/plain": [
       "<Figure size 640x480 with 1 Axes>"
      ]
     },
     "metadata": {},
     "output_type": "display_data"
    }
   ],
   "source": [
    "# 2. 시각화\n",
    "sns.barplot(x = \"Sex\" , y = \"Survived\", data = df, hue = \"Sex\")\n",
    "#여성 생존자가 남성 생존자보다 압도적으로 많음"
   ]
  },
  {
   "cell_type": "markdown",
   "id": "2979d7b3",
   "metadata": {},
   "source": [
    "## 4.2 나이에 따른 생존률 분석"
   ]
  },
  {
   "cell_type": "code",
   "execution_count": 72,
   "id": "88f8dc30",
   "metadata": {},
   "outputs": [
    {
     "data": {
      "text/plain": [
       "Age    Survived\n",
       "0.42   1           1\n",
       "0.67   1           1\n",
       "0.75   1           2\n",
       "0.83   1           2\n",
       "0.92   1           1\n",
       "                  ..\n",
       "70.00  0           2\n",
       "70.50  0           1\n",
       "71.00  0           2\n",
       "74.00  0           1\n",
       "80.00  1           1\n",
       "Name: count, Length: 144, dtype: int64"
      ]
     },
     "execution_count": 72,
     "metadata": {},
     "output_type": "execute_result"
    }
   ],
   "source": [
    "df.groupby(\"Age\")[\"Survived\"].value_counts()\n",
    "# 나이를 그룹별로 묶는 것이 좋겠다!"
   ]
  },
  {
   "cell_type": "code",
   "execution_count": 81,
   "id": "02962e12",
   "metadata": {},
   "outputs": [],
   "source": [
    "# 구조 우선 대상이었던 어린이: 1세~12세  \n",
    "#청소년: 13세~19세\n",
    "#청년: 20세~ 29세\n",
    "#중장년: 30세~ 49세\n",
    "#노년: 50세~\n",
    "#가설 수정: 어린이의 생존율이 가장 높고, 노년의 생존율이 가장 낮을 것이다\n",
    "def age_group(age):\n",
    "    if age < 13:\n",
    "        return \"Child\"\n",
    "    elif age <20:\n",
    "        return \"Teen\"\n",
    "    elif age < 30 :\n",
    "        return \"YoungAdult\"\n",
    "    elif age < 50 :\n",
    "        return \"Adult\"\n",
    "    else : \n",
    "        return \"Senior\"\n",
    "    \n",
    "df[\"AgeGroup\"] = df[\"Age\"].apply(age_group)\n"
   ]
  },
  {
   "cell_type": "code",
   "execution_count": 84,
   "id": "e466985e",
   "metadata": {},
   "outputs": [
    {
     "data": {
      "text/plain": [
       "AgeGroup\n",
       "Adult         0.42\n",
       "Child         0.58\n",
       "Senior        0.36\n",
       "Teen          0.41\n",
       "YoungAdult    0.32\n",
       "Name: Survived, dtype: float64"
      ]
     },
     "execution_count": 84,
     "metadata": {},
     "output_type": "execute_result"
    }
   ],
   "source": [
    "age_group_sur=df.groupby(\"AgeGroup\")[\"Survived\"].mean().round(2) #나이 그룹 별 생존률 평균 내기 소수점 둘째자리까지\n",
    "age_group_sur"
   ]
  },
  {
   "cell_type": "code",
   "execution_count": 85,
   "id": "2247836f",
   "metadata": {},
   "outputs": [
    {
     "data": {
      "text/plain": [
       "0    YoungAdult\n",
       "1         Adult\n",
       "2    YoungAdult\n",
       "3         Adult\n",
       "4         Adult\n",
       "Name: AgeGroup, dtype: object"
      ]
     },
     "execution_count": 85,
     "metadata": {},
     "output_type": "execute_result"
    }
   ],
   "source": [
    "df[\"AgeGroup\"].head(5)"
   ]
  },
  {
   "cell_type": "code",
   "execution_count": 86,
   "id": "825915f2",
   "metadata": {},
   "outputs": [
    {
     "data": {
      "text/plain": [
       "AgeGroup\n",
       "Child         0.58\n",
       "Adult         0.42\n",
       "Teen          0.41\n",
       "Senior        0.36\n",
       "YoungAdult    0.32\n",
       "Name: Survived, dtype: float64"
      ]
     },
     "execution_count": 86,
     "metadata": {},
     "output_type": "execute_result"
    }
   ],
   "source": [
    "age_group_sorted = age_group_sur.sort_values(ascending= False)\n",
    "age_group_sorted #그룹별 생존률 내림차순 정렬"
   ]
  },
  {
   "cell_type": "code",
   "execution_count": 77,
   "id": "b5587f47",
   "metadata": {},
   "outputs": [],
   "source": [
    "import matplotlib.pyplot as plt\n",
    "import seaborn as sns"
   ]
  },
  {
   "cell_type": "code",
   "execution_count": null,
   "id": "416fa2cd",
   "metadata": {},
   "outputs": [
    {
     "data": {
      "text/plain": [
       "<Axes: ylabel='AgeGroup'>"
      ]
     },
     "execution_count": 90,
     "metadata": {},
     "output_type": "execute_result"
    },
    {
     "data": {
      "image/png": "[encoded data removed]",
      "text/plain": [
       "<Figure size 700x500 with 1 Axes>"
      ]
     },
     "metadata": {},
     "output_type": "display_data"
    }
   ],
   "source": [
    "age_group_sorted.plot.barh(color = 'orange' , figsize = (7,5) )\n",
    "\n",
    "#=> 어린이의 생존률이 가장 높다\n",
    "# 예상 외로 가장 생존률이 낮은 층은 20세~29세 사이였다."
   ]
  },
  {
   "cell_type": "markdown",
   "id": "70bd75a0",
   "metadata": {},
   "source": [
    "## 4.3 객실 등급에 따른 생존율 분석"
   ]
  },
  {
   "cell_type": "code",
   "execution_count": null,
   "id": "234dd088",
   "metadata": {},
   "outputs": [
    {
     "data": {
      "text/plain": [
       "Pclass  Survived\n",
       "1       1           136\n",
       "        0            80\n",
       "2       0            97\n",
       "        1            87\n",
       "3       0           372\n",
       "        1           119\n",
       "Name: count, dtype: int64"
      ]
     },
     "execution_count": 92,
     "metadata": {},
     "output_type": "execute_result"
    }
   ],
   "source": [
    "#객실 등급별 생존자 수와 사망자 수 확인\n",
    "df.groupby(\"Pclass\")['Survived'].value_counts()\n"
   ]
  },
  {
   "cell_type": "code",
   "execution_count": null,
   "id": "8bd3e42d",
   "metadata": {},
   "outputs": [
    {
     "data": {
      "text/plain": [
       "Pclass  Survived\n",
       "1       1           0.629630\n",
       "        0           0.370370\n",
       "2       0           0.527174\n",
       "        1           0.472826\n",
       "3       0           0.757637\n",
       "        1           0.242363\n",
       "Name: proportion, dtype: float64"
      ]
     },
     "execution_count": 93,
     "metadata": {},
     "output_type": "execute_result"
    }
   ],
   "source": [
    "#객실 등급별 생존자 수와 사망자 수 비율 확인\n",
    "df.groupby('Pclass')[\"Survived\"].value_counts(normalize= True)\n"
   ]
  },
  {
   "cell_type": "code",
   "execution_count": null,
   "id": "230fbe9d",
   "metadata": {},
   "outputs": [
    {
     "data": {
      "text/plain": [
       "<Axes: ylabel='Pclass'>"
      ]
     },
     "execution_count": 98,
     "metadata": {},
     "output_type": "execute_result"
    },
    {
     "data": {
      "image/png": "[encoded data removed]",
      "text/plain": [
       "<Figure size 600x400 with 1 Axes>"
      ]
     },
     "metadata": {},
     "output_type": "display_data"
    }
   ],
   "source": [
    "# 시각화\n",
    "pclass_survival = df.groupby(\"Pclass\")[\"Survived\"].mean().round(2)\n",
    "pclass_survival.plot.barh(figsize = (6,4) , color = [\"gold\", \"silver\", \"brown\"] )\n",
    "\n",
    "#객실 등급별 생존율이 유의미하게 차이나는 것을 볼 수 있다."
   ]
  },
  {
   "cell_type": "code",
   "execution_count": null,
   "id": "d4495089",
   "metadata": {},
   "outputs": [],
   "source": []
  }
 ],
 "metadata": {
  "kernelspec": {
   "display_name": "myenv",
   "language": "python",
   "name": "python3"
  },
  "language_info": {
   "codemirror_mode": {
    "name": "ipython",
    "version": 3
   },
   "file_extension": ".py",
   "mimetype": "text/x-python",
   "name": "python",
   "nbconvert_exporter": "python",
   "pygments_lexer": "ipython3",
   "version": "3.9.21"
  }
 },
 "nbformat": 4,
 "nbformat_minor": 5
}
