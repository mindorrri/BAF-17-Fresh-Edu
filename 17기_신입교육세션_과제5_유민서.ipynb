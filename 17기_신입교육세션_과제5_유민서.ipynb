{
 "cells": [
  {
   "cell_type": "markdown",
   "id": "2f252b5b",
   "metadata": {},
   "source": [
    "# 4주차_실습과제"
   ]
  },
  {
   "cell_type": "markdown",
   "id": "78257e0b",
   "metadata": {},
   "source": [
    "## (1) 이론\n",
    "- 지난 세션시간까지 배운 데이터 분석 개념 점검을 위한 객관식/단답형 문제입니다.\n",
    "- 코드셀에 정답을 적어주시면 됩니다."
   ]
  },
  {
   "cell_type": "markdown",
   "id": "d2625545",
   "metadata": {},
   "source": [
    "#### 1. EDA(탐색적 데이터 분석, Exploratory Data Analysis)의 목적은?\n",
    "① 데이터를 정제하는 것<br>\n",
    "② 데이터를 시각화하고 특징을 파악하는 것<br>\n",
    "③ 모델을 학습시키는 것<br>\n",
    "④ 데이터를 수집하는 것<br>"
   ]
  },
  {
   "cell_type": "markdown",
   "id": "50f05de8",
   "metadata": {},
   "source": [
    "2"
   ]
  },
  {
   "cell_type": "markdown",
   "id": "f72ec175",
   "metadata": {},
   "source": [
    "#### 2. 다음 중 범주형 데이터를 수치형 데이터로 변환하는 방법이 아닌 것은?\n",
    "① Label Encoding<br>\n",
    "② One-Hot Encoding<br>\n",
    "③ Min-Max Scaling<br>\n",
    "④ Ordinal Encoding<br>"
   ]
  },
  {
   "cell_type": "markdown",
   "id": "1a904a11",
   "metadata": {},
   "source": [
    "3"
   ]
  },
  {
   "cell_type": "markdown",
   "id": "b7e72fd3",
   "metadata": {},
   "source": [
    "#### 3. 회귀 분석에서 사용하는 평가 지표로 적절하지 않은 것은?\n",
    "① RMSE (Root Mean Squared Error)<br>\n",
    "② R-squared<br>\n",
    "③ AUC-ROC<br>\n",
    "④ MAE (Mean Absolute Error)<br>"
   ]
  },
  {
   "cell_type": "markdown",
   "id": "e46930f9",
   "metadata": {},
   "source": [
    "3"
   ]
  },
  {
   "cell_type": "markdown",
   "id": "bb964ad8",
   "metadata": {},
   "source": [
    "#### 4. 비지도 학습에 해당하는 알고리즘을 모두 고르시오.\n",
    "① K-Means<br>\n",
    "② PCA<br>\n",
    "③ Random Forest<br>\n",
    "④ DBSCAN<br>"
   ]
  },
  {
   "cell_type": "markdown",
   "id": "a8ab0cf4",
   "metadata": {},
   "source": [
    "1,4"
   ]
  },
  {
   "cell_type": "markdown",
   "id": "21d77d75",
   "metadata": {},
   "source": [
    "#### 5. 분류 모델의 성능을 평가할 때 Precision과 Recall의 차이점은?\n",
    "\n",
    "Precision이 중요한 상황과 Recall이 중요한 상황을 각각 적어주세요."
   ]
  },
  {
   "cell_type": "markdown",
   "id": "a9a82d20",
   "metadata": {},
   "source": [
    "Precision: 모델이 양성이라고 한 것들 중 진짜 양성의 비율  \n",
    "Recall: 실제 양성들 중 모델이 찾아낸 비율  \n",
    "Precision은 모델의 예측이 정확한가를 판단하는데 사용된다.  \n",
    "Recall은 모델이 잘못 예측하더라도, 최대한 양성을 잡아내는 것이 중요할 때 사용된다.\n"
   ]
  },
  {
   "cell_type": "markdown",
   "id": "6406718a",
   "metadata": {},
   "source": [
    "#### 6. 결측치 처리 방법에는 여러 가지가 있습니다. 아래와 같은 상황에서는 어떤 결측치 처리 방법이 가장 적절한가요?\n",
    "\n",
    "- 데이터에서 일부 숫자형 변수의 결측치 비율이 40% 이상이다.\n",
    "- 데이터를 분석해보니 결측값이 특정한 패턴 없이 무작위로 발생했다."
   ]
  },
  {
   "cell_type": "markdown",
   "id": "b071278f",
   "metadata": {},
   "source": [
    "결측치의 비율이 높기 때문에 결측치를 제거하기보단, 다른 값으로 대체해야 데이터 결손을 막을 수 있다.  \n",
    "결측치는 회귀분석을 통해 대체하거나, 평균값, 중앙값, 최빈값으로 대체하거나, 보간법, 기상청 데이터와 같은 관련 데이터를 불러와서 대체 가능하다."
   ]
  },
  {
   "cell_type": "markdown",
   "id": "899b23d0",
   "metadata": {},
   "source": [
    "#### 7. K-means 알고리즘의 단점 중 아래와 같은 상황에서 어떤 방법을 적용할 수 있을까요?\n",
    "\n",
    "거리 기반 알고리즘으로 속성(피쳐)의 개수가 많은 경우 정확도가 떨어졌다."
   ]
  },
  {
   "cell_type": "markdown",
   "id": "a2e8df71",
   "metadata": {},
   "source": [
    "DBScan 을 적용할 수 있다. DBScan은 밀도 기반이기 때문에 K-means 처럼 원형 클러스터 가정이 없어 고차원에서 생기는 왜곡에 덜 민감하다."
   ]
  },
  {
   "cell_type": "markdown",
   "id": "87966a47",
   "metadata": {},
   "source": [
    "#### 8. 앙상블 학습(Ensemble Learning) 방법 중 Bagging과 Boosting의 차이점\n",
    "\n",
    "각각 대표적인 알고리즘을 하나씩 제시해주세요."
   ]
  },
  {
   "cell_type": "markdown",
   "id": "e0f0971c",
   "metadata": {},
   "source": [
    "Bagging : 여러 부트스트랩 샘플에 병렬로 학습한 모델을 투표 또는 평균을 통해 종합하는 방식, 대표적인 모델: Random Forest  \n",
    "\n",
    "Boosting: 각 모델이 순서대로 학습하여 오류에 가중을 두고 보완하여 편향을 줄이는 방식, 대표적인 모델: XGBoost "
   ]
  },
  {
   "cell_type": "markdown",
   "id": "01f17d64",
   "metadata": {},
   "source": [
    "#### 9. 다중공선성이란 무엇이며, 다중공선성이 심할 경우 해결 방법은 무엇인가요?\n",
    "\n"
   ]
  },
  {
   "cell_type": "markdown",
   "id": "e058a1f2",
   "metadata": {},
   "source": [
    "다중공선성이란 설명 변수들 사이에 강한 선형 결합이 있어, 회귀계수 추정이 불안정해지고 표준 오차가 커지는 현상이다. 이를 해결하려면 규제 회귀(Ridge, Elastic Net) 를 사용하거나, 차원 축소를 한 후 회귀를 적용하면 된다."
   ]
  },
  {
   "cell_type": "markdown",
   "id": "0cb65157",
   "metadata": {},
   "source": [
    "#### 10. 머신러닝 모델의 과적합(Overfitting)을 방지하기 위한 방법을 2가지 이상 적어주세요."
   ]
  },
  {
   "cell_type": "markdown",
   "id": "c302b2ad",
   "metadata": {},
   "source": [
    "규제: Ridge, Lasso\n",
    "교차검증"
   ]
  },
  {
   "cell_type": "markdown",
   "id": "5aa1fb74",
   "metadata": {},
   "source": [
    "## (2) 고객 이탈 예측 실습  \n",
    "\n",
    "### 목표  \n",
    "- 고객의 이탈 여부(`Churn`)를 예측하는 모델을 구축하세요.  \n",
    "- **train, test 데이터에 동일한 전처리를 적용**한 후, 최종 모델을 `customer_churn_test.csv`에 적용하여 결과를 `test.csv`로 저장하세요.  \n",
    "\n",
    "### 실습 가이드  \n",
    "1. **데이터**  \n",
    "   - `customer_churn_train.csv` (훈련 데이터)  \n",
    "   - `customer_churn_test.csv` (테스트 데이터)  \n",
    "\n",
    "2. **분석 과정**  \n",
    "   - **데이터 탐색(EDA)** : 데이터의 전반적인 특성과 분포를 확인하세요.  \n",
    "   - **데이터 전처리** : 결측치 및 이상치를 필수적으로 처리하세요.  \n",
    "   - **모델링** : 적절한 모델을 선택하여 학습시키세요.  \n",
    "\n",
    "3. **요구사항**  \n",
    "   - **결측치와 이상치 처리 필수!**  \n",
    "   - **train과 test 데이터에 동일한 전처리 적용!**  \n",
    "   - **선택한 모델에 대한 이유 설명 (주석 또는 마크다운 활용)**  \n",
    "   - **주석과 마크다운을 적극 활용하여 코드 가독성을 높이기!**  \n",
    "\n",
    "📢 **최종 결과물**  \n",
    "- `customer_churn_test.csv`에 대해 예측을 수행한 결과를 `test.csv`로 저장하세요.  \n",
    "- 코드와 `test.csv`을 레포지토리에 업로드해주세요.  \n"
   ]
  },
  {
   "cell_type": "markdown",
   "id": "1c6e48b6",
   "metadata": {},
   "source": [
    "### 데이터 컬럼 설명  \n",
    "\n",
    "| **컬럼명**           | **설명**                                  |  \n",
    "|--------------------|--------------------------------|  \n",
    "| `CustomerID`      | 고객 고유 ID                    |  \n",
    "| `Age`             | 고객 연령                           |  \n",
    "| `Gender`          | 성별 (`Male`, `Female`)          |  \n",
    "| `Tenure`          | 가입 기간 (개월)                  |  \n",
    "| `Usage Frequency` | 월별 평균 사용 횟수              |  \n",
    "| `Support Calls`   | 고객센터 문의 횟수               |  \n",
    "| `Payment Delay`   | 연체 발생 횟수                   |  \n",
    "| `Subscription Type` | 가입 요금제 (`Basic`, `Standard`, `Premium`) |  \n",
    "| `Contract Length` | 계약 기간 (`Month-to-Month`, `One Year`, `Two Year`) |  \n",
    "| `Total Spend`     | 총 지출 금액                      |  \n",
    "| `Last Interaction` | 마지막 서비스 이용 후 지난 일수  |  \n",
    "| `Churn`           | 고객 이탈 여부 (`1 = 이탈`, `0 = 유지`) |  \n",
    "\n",
    "- **타겟 변수(Target Variable):** `Churn`  \n",
    "- **범주형 변수(Categorical Features):** `Gender`, `Subscription Type`, `Contract Length`  \n",
    "- **수치형 변수(Numerical Features):** `Age`, `Tenure`, `Usage Frequency`, `Support Calls`, `Payment Delay`, `Total Spend`, `Last Interaction`  \n"
   ]
  },
  {
   "cell_type": "markdown",
   "id": "239abf62",
   "metadata": {},
   "source": [
    "# 1. 데이터 미리보기"
   ]
  },
  {
   "cell_type": "markdown",
   "id": "4c5ca6dc",
   "metadata": {},
   "source": [
    "# 1.1 가설 설정\n",
    "1. 계약 기간(Contract Length)이 길수록 고객 이탈이 적을 것이다.\n",
    "2. 월별 평균 사용 횟수(Usage Frequency)가 많은 고객이 이탈이 적을 것이다.\n",
    "3. 연체 발생 횟수(Payment Delay)가 많은 고객이 이탈이 많을 것이다.\n",
    "4. 마지막 서비스 이용 후 지난 일수(Last Interaction)가 많은 고객이 이탈이 많을 것이다."
   ]
  },
  {
   "cell_type": "markdown",
   "id": "f3cab629",
   "metadata": {},
   "source": [
    "## 1.2 라이브러리 불러오기"
   ]
  },
  {
   "cell_type": "code",
   "execution_count": 1,
   "id": "c1136084",
   "metadata": {},
   "outputs": [],
   "source": [
    "import pandas as pd\n",
    "import numpy as np\n",
    "import matplotlib.pyplot as plt\n",
    "import seaborn as sns"
   ]
  },
  {
   "cell_type": "code",
   "execution_count": 2,
   "id": "cb899dcf",
   "metadata": {},
   "outputs": [],
   "source": [
    "# 데이터 불러오기\n",
    "train = pd.read_csv(r\"C:\\Users\\yms10\\OneDrive\\바탕 화면\\customer_churn_train.csv\")\n",
    "test = pd.read_csv(r\"C:\\Users\\yms10\\OneDrive\\바탕 화면\\customer_churn_test.csv\")"
   ]
  },
  {
   "cell_type": "markdown",
   "id": "d491bb3e",
   "metadata": {},
   "source": [
    "## 1.3 데이터 파악하기"
   ]
  },
  {
   "cell_type": "code",
   "execution_count": 3,
   "id": "602e98fc",
   "metadata": {},
   "outputs": [
    {
     "name": "stdout",
     "output_type": "stream",
     "text": [
      "   CustomerID   Age  Gender  Tenure  Usage Frequency  Support Calls  \\\n",
      "0         2.0  30.0  Female    39.0             14.0            5.0   \n",
      "1         3.0  65.0  Female    49.0              1.0           10.0   \n",
      "2         4.0  55.0  Female    14.0              4.0            6.0   \n",
      "3         5.0  58.0    Male    38.0             21.0            7.0   \n",
      "4         6.0  23.0    Male    32.0             20.0            5.0   \n",
      "\n",
      "   Payment Delay Subscription Type Contract Length  Total Spend  \\\n",
      "0           18.0          Standard          Annual        932.0   \n",
      "1            8.0             Basic         Monthly        557.0   \n",
      "2           18.0             Basic       Quarterly        185.0   \n",
      "3            7.0          Standard         Monthly        396.0   \n",
      "4            8.0             Basic         Monthly        617.0   \n",
      "\n",
      "   Last Interaction  Churn  \n",
      "0              17.0    1.0  \n",
      "1               6.0    1.0  \n",
      "2               3.0    1.0  \n",
      "3              29.0    1.0  \n",
      "4              20.0    1.0  \n",
      "        CustomerID   Age  Gender  Tenure  Usage Frequency  Support Calls  \\\n",
      "440828    449995.0  42.0    Male    54.0             15.0            1.0   \n",
      "440829    449996.0  25.0  Female     8.0             13.0            1.0   \n",
      "440830    449997.0  26.0    Male    35.0             27.0            1.0   \n",
      "440831    449998.0  28.0    Male    55.0             14.0            2.0   \n",
      "440832    449999.0  31.0    Male    48.0             20.0            1.0   \n",
      "\n",
      "        Payment Delay Subscription Type Contract Length  Total Spend  \\\n",
      "440828            3.0           Premium          Annual       716.38   \n",
      "440829           20.0           Premium          Annual       745.38   \n",
      "440830            5.0          Standard       Quarterly       977.31   \n",
      "440831            0.0          Standard       Quarterly       602.55   \n",
      "440832           14.0           Premium       Quarterly       567.77   \n",
      "\n",
      "        Last Interaction  Churn  \n",
      "440828               8.0    0.0  \n",
      "440829               2.0    0.0  \n",
      "440830               9.0    0.0  \n",
      "440831               2.0    0.0  \n",
      "440832              21.0    0.0  \n",
      "(440833, 12)\n"
     ]
    }
   ],
   "source": [
    "print(train.head())\n",
    "print(train.tail())\n",
    "print(train.shape)"
   ]
  },
  {
   "cell_type": "code",
   "execution_count": 4,
   "id": "f105eea1",
   "metadata": {},
   "outputs": [
    {
     "data": {
      "text/html": [
       "<div>\n",
       "<style scoped>\n",
       "    .dataframe tbody tr th:only-of-type {\n",
       "        vertical-align: middle;\n",
       "    }\n",
       "\n",
       "    .dataframe tbody tr th {\n",
       "        vertical-align: top;\n",
       "    }\n",
       "\n",
       "    .dataframe thead th {\n",
       "        text-align: right;\n",
       "    }\n",
       "</style>\n",
       "<table border=\"1\" class=\"dataframe\">\n",
       "  <thead>\n",
       "    <tr style=\"text-align: right;\">\n",
       "      <th></th>\n",
       "      <th>CustomerID</th>\n",
       "      <th>Age</th>\n",
       "      <th>Tenure</th>\n",
       "      <th>Usage Frequency</th>\n",
       "      <th>Support Calls</th>\n",
       "      <th>Payment Delay</th>\n",
       "      <th>Total Spend</th>\n",
       "      <th>Last Interaction</th>\n",
       "      <th>Churn</th>\n",
       "    </tr>\n",
       "  </thead>\n",
       "  <tbody>\n",
       "    <tr>\n",
       "      <th>count</th>\n",
       "      <td>440832.000000</td>\n",
       "      <td>440832.000000</td>\n",
       "      <td>440832.000000</td>\n",
       "      <td>440832.000000</td>\n",
       "      <td>440832.000000</td>\n",
       "      <td>440832.000000</td>\n",
       "      <td>440832.000000</td>\n",
       "      <td>440832.000000</td>\n",
       "      <td>440832.000000</td>\n",
       "    </tr>\n",
       "    <tr>\n",
       "      <th>mean</th>\n",
       "      <td>225398.667955</td>\n",
       "      <td>39.373153</td>\n",
       "      <td>31.256336</td>\n",
       "      <td>15.807494</td>\n",
       "      <td>3.604437</td>\n",
       "      <td>12.965722</td>\n",
       "      <td>631.616223</td>\n",
       "      <td>14.480868</td>\n",
       "      <td>0.567107</td>\n",
       "    </tr>\n",
       "    <tr>\n",
       "      <th>std</th>\n",
       "      <td>129531.918550</td>\n",
       "      <td>12.442369</td>\n",
       "      <td>17.255727</td>\n",
       "      <td>8.586242</td>\n",
       "      <td>3.070218</td>\n",
       "      <td>8.258063</td>\n",
       "      <td>240.803001</td>\n",
       "      <td>8.596208</td>\n",
       "      <td>0.495477</td>\n",
       "    </tr>\n",
       "    <tr>\n",
       "      <th>min</th>\n",
       "      <td>2.000000</td>\n",
       "      <td>18.000000</td>\n",
       "      <td>1.000000</td>\n",
       "      <td>1.000000</td>\n",
       "      <td>0.000000</td>\n",
       "      <td>0.000000</td>\n",
       "      <td>100.000000</td>\n",
       "      <td>1.000000</td>\n",
       "      <td>0.000000</td>\n",
       "    </tr>\n",
       "    <tr>\n",
       "      <th>25%</th>\n",
       "      <td>113621.750000</td>\n",
       "      <td>29.000000</td>\n",
       "      <td>16.000000</td>\n",
       "      <td>9.000000</td>\n",
       "      <td>1.000000</td>\n",
       "      <td>6.000000</td>\n",
       "      <td>480.000000</td>\n",
       "      <td>7.000000</td>\n",
       "      <td>0.000000</td>\n",
       "    </tr>\n",
       "    <tr>\n",
       "      <th>50%</th>\n",
       "      <td>226125.500000</td>\n",
       "      <td>39.000000</td>\n",
       "      <td>32.000000</td>\n",
       "      <td>16.000000</td>\n",
       "      <td>3.000000</td>\n",
       "      <td>12.000000</td>\n",
       "      <td>661.000000</td>\n",
       "      <td>14.000000</td>\n",
       "      <td>1.000000</td>\n",
       "    </tr>\n",
       "    <tr>\n",
       "      <th>75%</th>\n",
       "      <td>337739.250000</td>\n",
       "      <td>48.000000</td>\n",
       "      <td>46.000000</td>\n",
       "      <td>23.000000</td>\n",
       "      <td>6.000000</td>\n",
       "      <td>19.000000</td>\n",
       "      <td>830.000000</td>\n",
       "      <td>22.000000</td>\n",
       "      <td>1.000000</td>\n",
       "    </tr>\n",
       "    <tr>\n",
       "      <th>max</th>\n",
       "      <td>449999.000000</td>\n",
       "      <td>65.000000</td>\n",
       "      <td>60.000000</td>\n",
       "      <td>30.000000</td>\n",
       "      <td>10.000000</td>\n",
       "      <td>30.000000</td>\n",
       "      <td>1000.000000</td>\n",
       "      <td>30.000000</td>\n",
       "      <td>1.000000</td>\n",
       "    </tr>\n",
       "  </tbody>\n",
       "</table>\n",
       "</div>"
      ],
      "text/plain": [
       "          CustomerID            Age         Tenure  Usage Frequency  \\\n",
       "count  440832.000000  440832.000000  440832.000000    440832.000000   \n",
       "mean   225398.667955      39.373153      31.256336        15.807494   \n",
       "std    129531.918550      12.442369      17.255727         8.586242   \n",
       "min         2.000000      18.000000       1.000000         1.000000   \n",
       "25%    113621.750000      29.000000      16.000000         9.000000   \n",
       "50%    226125.500000      39.000000      32.000000        16.000000   \n",
       "75%    337739.250000      48.000000      46.000000        23.000000   \n",
       "max    449999.000000      65.000000      60.000000        30.000000   \n",
       "\n",
       "       Support Calls  Payment Delay    Total Spend  Last Interaction  \\\n",
       "count  440832.000000  440832.000000  440832.000000     440832.000000   \n",
       "mean        3.604437      12.965722     631.616223         14.480868   \n",
       "std         3.070218       8.258063     240.803001          8.596208   \n",
       "min         0.000000       0.000000     100.000000          1.000000   \n",
       "25%         1.000000       6.000000     480.000000          7.000000   \n",
       "50%         3.000000      12.000000     661.000000         14.000000   \n",
       "75%         6.000000      19.000000     830.000000         22.000000   \n",
       "max        10.000000      30.000000    1000.000000         30.000000   \n",
       "\n",
       "               Churn  \n",
       "count  440832.000000  \n",
       "mean        0.567107  \n",
       "std         0.495477  \n",
       "min         0.000000  \n",
       "25%         0.000000  \n",
       "50%         1.000000  \n",
       "75%         1.000000  \n",
       "max         1.000000  "
      ]
     },
     "execution_count": 4,
     "metadata": {},
     "output_type": "execute_result"
    }
   ],
   "source": [
    "train.describe()"
   ]
  },
  {
   "cell_type": "code",
   "execution_count": 5,
   "id": "9f95d65b",
   "metadata": {},
   "outputs": [
    {
     "name": "stdout",
     "output_type": "stream",
     "text": [
      "<class 'pandas.core.frame.DataFrame'>\n",
      "RangeIndex: 440833 entries, 0 to 440832\n",
      "Data columns (total 12 columns):\n",
      " #   Column             Non-Null Count   Dtype  \n",
      "---  ------             --------------   -----  \n",
      " 0   CustomerID         440832 non-null  float64\n",
      " 1   Age                440832 non-null  float64\n",
      " 2   Gender             440832 non-null  object \n",
      " 3   Tenure             440832 non-null  float64\n",
      " 4   Usage Frequency    440832 non-null  float64\n",
      " 5   Support Calls      440832 non-null  float64\n",
      " 6   Payment Delay      440832 non-null  float64\n",
      " 7   Subscription Type  440832 non-null  object \n",
      " 8   Contract Length    440832 non-null  object \n",
      " 9   Total Spend        440832 non-null  float64\n",
      " 10  Last Interaction   440832 non-null  float64\n",
      " 11  Churn              440832 non-null  float64\n",
      "dtypes: float64(9), object(3)\n",
      "memory usage: 40.4+ MB\n"
     ]
    }
   ],
   "source": [
    "train.info()"
   ]
  },
  {
   "cell_type": "code",
   "execution_count": 6,
   "id": "4c1c153d",
   "metadata": {},
   "outputs": [
    {
     "data": {
      "text/plain": [
       "Index(['CustomerID', 'Age', 'Gender', 'Tenure', 'Usage Frequency',\n",
       "       'Support Calls', 'Payment Delay', 'Subscription Type',\n",
       "       'Contract Length', 'Total Spend', 'Last Interaction', 'Churn'],\n",
       "      dtype='object')"
      ]
     },
     "execution_count": 6,
     "metadata": {},
     "output_type": "execute_result"
    }
   ],
   "source": [
    "train.columns"
   ]
  },
  {
   "cell_type": "markdown",
   "id": "6df3654c",
   "metadata": {},
   "source": [
    "## (1) Target 변수('Churn') 분포 확인"
   ]
  },
  {
   "cell_type": "code",
   "execution_count": 7,
   "id": "7ea239fb",
   "metadata": {},
   "outputs": [
    {
     "data": {
      "text/plain": [
       "Churn\n",
       "1.0    249999\n",
       "0.0    190833\n",
       "Name: count, dtype: int64"
      ]
     },
     "execution_count": 7,
     "metadata": {},
     "output_type": "execute_result"
    }
   ],
   "source": [
    "# 이탈자 수 확인\n",
    "train['Churn'].value_counts() \n",
    "#이탈자 수 249999 \n",
    "#유지자 수 190833"
   ]
  },
  {
   "cell_type": "code",
   "execution_count": 8,
   "id": "2ca7d40b",
   "metadata": {},
   "outputs": [
    {
     "data": {
      "text/plain": [
       "Churn\n",
       "1.0    56.71072\n",
       "0.0    43.28928\n",
       "Name: proportion, dtype: float64"
      ]
     },
     "execution_count": 8,
     "metadata": {},
     "output_type": "execute_result"
    }
   ],
   "source": [
    "# 이탈 비율 확인\n",
    "churn_ratio = train['Churn'].value_counts(normalize = True) * 100\n",
    "churn_ratio"
   ]
  },
  {
   "cell_type": "code",
   "execution_count": 9,
   "id": "d0a5a735",
   "metadata": {},
   "outputs": [
    {
     "data": {
      "image/png": "[encoded data removed]",
      "text/plain": [
       "<Figure size 640x480 with 1 Axes>"
      ]
     },
     "metadata": {},
     "output_type": "display_data"
    }
   ],
   "source": [
    "# 시각화\n",
    "plt.Figure(figsize = (5,4))\n",
    "churn_ratio.plot(kind = 'bar',color = ['Red', 'Blue'] )\n",
    "\n",
    "# 레이블, 제목 지정\n",
    "plt.title('Churn Distribution (%)')\n",
    "plt.xticks([0,1], ['Churned', 'Not Churned'], rotation = 0)\n",
    "plt.ylabel('Percentage(%)')\n",
    "plt.show()\n"
   ]
  },
  {
   "cell_type": "markdown",
   "id": "a0eb7d41",
   "metadata": {},
   "source": [
    "## (2) 상관계수 히트맵"
   ]
  },
  {
   "cell_type": "code",
   "execution_count": 10,
   "id": "555c95db",
   "metadata": {},
   "outputs": [],
   "source": [
    "# 수치형 변수 담기\n",
    "num_cols = train.select_dtypes(include=['float64']).columns\n",
    "#Customer ID 는 증가하는 숫자에 불과하므로 지운다.\n",
    "num_cols = num_cols.drop('CustomerID')"
   ]
  },
  {
   "cell_type": "code",
   "execution_count": 11,
   "id": "2e79bf3d",
   "metadata": {},
   "outputs": [
    {
     "data": {
      "text/plain": [
       "Text(0.5, 1.0, 'correlation heatmap')"
      ]
     },
     "execution_count": 11,
     "metadata": {},
     "output_type": "execute_result"
    },
    {
     "data": {
      "image/png": "[encoded data removed]",
      "text/plain": [
       "<Figure size 1000x700 with 2 Axes>"
      ]
     },
     "metadata": {},
     "output_type": "display_data"
    }
   ],
   "source": [
    "plt.figure(figsize = (10,7))\n",
    "sns.heatmap(train[num_cols].corr(), annot = True)\n",
    "plt.title('correlation heatmap')\n",
    "\n",
    "#<유의미하게 볼 만한 관계>\n",
    "#Support Calls 와 Churn 의 상관계수 0.57 => 이탈한 그룹의 Support Calls의 비율이 높다는 뜻\n",
    "#Total Spend 와 Churn의 상관계수: -0.43 => 어찌보면 당연한 결과일수도..? 오랫동안 이용했으니 총 지출 금액이 많은 것\n",
    "#변수간 상관계수 중 가장 높은 값이 0.22 이므로, 다중 공선성 위험이 낮음."
   ]
  },
  {
   "cell_type": "markdown",
   "id": "523756d6",
   "metadata": {},
   "source": [
    "## (3) 수치형 변수 분포 확인"
   ]
  },
  {
   "cell_type": "code",
   "execution_count": 12,
   "id": "3c7f0370",
   "metadata": {},
   "outputs": [
    {
     "data": {
      "image/png": "[encoded data removed]",
      "text/plain": [
       "<Figure size 1500x1200 with 9 Axes>"
      ]
     },
     "metadata": {},
     "output_type": "display_data"
    }
   ],
   "source": [
    "# 수치형 변수 박스플롯 시각화\n",
    "num_cols = [\n",
    "    \"Age\",\"Tenure\",\"Usage Frequency\",\"Support Calls\",\n",
    "    \"Payment Delay\",\"Total Spend\",\"Last Interaction\"\n",
    "]\n",
    "\n",
    "# 실제로 데이터에 있는 컬럼만 선택\n",
    "num_cols = [c for c in num_cols if c in train.columns]\n",
    "\n",
    "\n",
    "# 서브플롯 크기 지정\n",
    "n_cols = 3  # 한 줄에 3개\n",
    "n_rows = (len(num_cols) + n_cols - 1) // n_cols\n",
    "\n",
    "fig, axes = plt.subplots(n_rows, n_cols, figsize=(n_cols*5, n_rows*4))\n",
    "\n",
    "# 2D axes를 1D로 평탄화\n",
    "axes = axes.flatten()\n",
    "\n",
    "# 각 변수별 박스플롯\n",
    "for i, col in enumerate(num_cols):\n",
    "    sns.boxplot(x=train[col], ax=axes[i], color='skyblue')\n",
    "    axes[i].set_title(f'{col} Boxplot')\n",
    "\n",
    "plt.tight_layout()\n",
    "plt.show()"
   ]
  },
  {
   "cell_type": "markdown",
   "id": "b28ebd71",
   "metadata": {},
   "source": [
    "## 1.4 Churn과 주요 개별 변수들의 관계 파악"
   ]
  },
  {
   "cell_type": "markdown",
   "id": "32c99935",
   "metadata": {},
   "source": [
    "## (1) 고객 센터 문의 횟수(Support Calls) 와 고객 이탈 여부(Churn)"
   ]
  },
  {
   "cell_type": "code",
   "execution_count": 13,
   "id": "58a8b621",
   "metadata": {},
   "outputs": [
    {
     "data": {
      "text/html": [
       "<div>\n",
       "<style scoped>\n",
       "    .dataframe tbody tr th:only-of-type {\n",
       "        vertical-align: middle;\n",
       "    }\n",
       "\n",
       "    .dataframe tbody tr th {\n",
       "        vertical-align: top;\n",
       "    }\n",
       "\n",
       "    .dataframe thead th {\n",
       "        text-align: right;\n",
       "    }\n",
       "</style>\n",
       "<table border=\"1\" class=\"dataframe\">\n",
       "  <thead>\n",
       "    <tr style=\"text-align: right;\">\n",
       "      <th></th>\n",
       "      <th>count</th>\n",
       "      <th>mean</th>\n",
       "      <th>std</th>\n",
       "      <th>min</th>\n",
       "      <th>25%</th>\n",
       "      <th>50%</th>\n",
       "      <th>75%</th>\n",
       "      <th>max</th>\n",
       "    </tr>\n",
       "    <tr>\n",
       "      <th>Churn</th>\n",
       "      <th></th>\n",
       "      <th></th>\n",
       "      <th></th>\n",
       "      <th></th>\n",
       "      <th></th>\n",
       "      <th></th>\n",
       "      <th></th>\n",
       "      <th></th>\n",
       "    </tr>\n",
       "  </thead>\n",
       "  <tbody>\n",
       "    <tr>\n",
       "      <th>0.0</th>\n",
       "      <td>190833.0</td>\n",
       "      <td>1.586418</td>\n",
       "      <td>1.289975</td>\n",
       "      <td>0.0</td>\n",
       "      <td>0.0</td>\n",
       "      <td>1.0</td>\n",
       "      <td>3.0</td>\n",
       "      <td>5.0</td>\n",
       "    </tr>\n",
       "    <tr>\n",
       "      <th>1.0</th>\n",
       "      <td>249999.0</td>\n",
       "      <td>5.144861</td>\n",
       "      <td>3.141639</td>\n",
       "      <td>0.0</td>\n",
       "      <td>2.0</td>\n",
       "      <td>5.0</td>\n",
       "      <td>8.0</td>\n",
       "      <td>10.0</td>\n",
       "    </tr>\n",
       "  </tbody>\n",
       "</table>\n",
       "</div>"
      ],
      "text/plain": [
       "          count      mean       std  min  25%  50%  75%   max\n",
       "Churn                                                        \n",
       "0.0    190833.0  1.586418  1.289975  0.0  0.0  1.0  3.0   5.0\n",
       "1.0    249999.0  5.144861  3.141639  0.0  2.0  5.0  8.0  10.0"
      ]
     },
     "execution_count": 13,
     "metadata": {},
     "output_type": "execute_result"
    }
   ],
   "source": [
    "# Churn 그룹별 Support Calls 평균\n",
    "train.groupby('Churn')['Support Calls'].describe()\n"
   ]
  },
  {
   "cell_type": "code",
   "execution_count": 14,
   "id": "a5ef216f",
   "metadata": {},
   "outputs": [
    {
     "name": "stderr",
     "output_type": "stream",
     "text": [
      "C:\\Users\\yms10\\AppData\\Local\\Temp\\ipykernel_19060\\3275315483.py:2: FutureWarning: \n",
      "\n",
      "Passing `palette` without assigning `hue` is deprecated and will be removed in v0.14.0. Assign the `x` variable to `hue` and set `legend=False` for the same effect.\n",
      "\n",
      "  sns.boxplot( x='Churn', y='Support Calls', data= train, palette = ['green', 'red'])\n"
     ]
    },
    {
     "data": {
      "image/png": "[encoded data removed]",
      "text/plain": [
       "<Figure size 600x400 with 1 Axes>"
      ]
     },
     "metadata": {},
     "output_type": "display_data"
    }
   ],
   "source": [
    "plt.figure(figsize=(6,4))\n",
    "sns.boxplot( x='Churn', y='Support Calls', data= train, palette = ['green', 'red'])\n",
    "sns.stripplot(x='Churn', y='Support Calls', data= train, color = 'black', alpha = 0.3)\n",
    "\n",
    "plt.title('Support Calls & churn')\n",
    "plt.xlabel('Churn (0 = Not, 1= Yes)')\n",
    "plt.ylabel('Support Calls')\n",
    "plt.show()"
   ]
  },
  {
   "cell_type": "markdown",
   "id": "27e5a7d7",
   "metadata": {},
   "source": [
    "### 해석\n",
    "- Churn = 0 -> Support Calls Median = 1  \n",
    "  Churn = 1 -> Support Calls Median = 5  \n",
    "  => 이탈 고객이 유지 고객보다 지원 요청을 훨씬 많이 했다.\n",
    "\n",
    "- Churn = 0 -> 분포가 0회~3회 안에 몰려 있음  \n",
    "  Churn = 1 -> 분포가 0회~10회로 넓게 퍼져있음  \n",
    "  => 이탈 고객의 불만, 문제 해결 시도가 많았다."
   ]
  },
  {
   "cell_type": "markdown",
   "id": "93cee8e9",
   "metadata": {},
   "source": [
    "## (2) 계약기간(Contract Length)과 고객 이탈 여부(Churn)"
   ]
  },
  {
   "cell_type": "code",
   "execution_count": 15,
   "id": "b2d75b39",
   "metadata": {},
   "outputs": [
    {
     "data": {
      "image/png": "[encoded data removed]",
      "text/plain": [
       "<Figure size 640x480 with 1 Axes>"
      ]
     },
     "metadata": {},
     "output_type": "display_data"
    }
   ],
   "source": [
    "contract_churn = train.groupby('Contract Length')['Churn'].mean()\n",
    "\n",
    "contract_churn.plot(kind = 'bar', color = ['Red','Gold','Green'], rot= 360)\n",
    "plt.title('Churn Rate by Contract Length')\n",
    "plt.ylabel('Churn Rate')\n",
    "plt.show()"
   ]
  },
  {
   "cell_type": "markdown",
   "id": "0e85c341",
   "metadata": {},
   "source": [
    "### <해석>\n",
    "- Monthly(월 단위) 이탈률 100% : 단기 사용 후 바로 이탈, 충성도 낮음  \n",
    "\n",
    "\n",
    "- Annual(연 단위) & Quarterly(분기) 이탈률 대략 45% : 장기 고객은 상대적으로 유지율이 높음,  그러나 절반 정도는 이탈 => 장기 고객도 불만 요인 존재"
   ]
  },
  {
   "cell_type": "code",
   "execution_count": 16,
   "id": "cb26db84",
   "metadata": {},
   "outputs": [
    {
     "name": "stdout",
     "output_type": "stream",
     "text": [
      "                 total_customers  churned_customer  churn_rate(%)\n",
      "Contract Length                                                  \n",
      "Monthly                    87104           87104.0          100.0\n",
      "Annual                    177198           81646.0           46.1\n",
      "Quarterly                 176530           81249.0           46.0\n"
     ]
    }
   ],
   "source": [
    "#Monthly 이탈률 100% : 확인 필요 \n",
    "\n",
    "contract_summary = train.groupby('Contract Length').agg(\n",
    "    total_customers = ('Churn', 'count'), #해당 계약 기간의 전체 고객 수\n",
    "    churned_customer = ('Churn', 'sum') #이탈 고객 수\n",
    ")\n",
    "# 이탈률 계산 = 이탈 고객수 / 전체 고객 수 * 100\n",
    "contract_summary['churn_rate(%)'] = (contract_summary['churned_customer']/contract_summary['total_customers'] * 100).round(1)\n",
    "\n",
    "#이탈률 높은 순으로 정렬\n",
    "contract_summary = contract_summary.sort_values('churn_rate(%)', ascending = False)\n",
    "\n",
    "print(contract_summary)\n",
    "\n",
    "#진짜로 87104 명 중 87104명 이탈 함.... 말이 되나...?"
   ]
  },
  {
   "cell_type": "markdown",
   "id": "7eecbd95",
   "metadata": {},
   "source": [
    "## (3) 월별 사용 횟수(Usage Frequency) 와 고객 이탈 여부(Churn)\n"
   ]
  },
  {
   "cell_type": "code",
   "execution_count": 17,
   "id": "acac4a5f",
   "metadata": {},
   "outputs": [
    {
     "data": {
      "text/plain": [
       "Churn\n",
       "0.0    16.260552\n",
       "1.0    15.461658\n",
       "Name: Usage Frequency, dtype: float64"
      ]
     },
     "execution_count": 17,
     "metadata": {},
     "output_type": "execute_result"
    }
   ],
   "source": [
    "# 기초 통계 비교\n",
    "train.groupby('Churn')['Usage Frequency'].mean()"
   ]
  },
  {
   "cell_type": "code",
   "execution_count": 18,
   "id": "d52912a6",
   "metadata": {},
   "outputs": [
    {
     "name": "stderr",
     "output_type": "stream",
     "text": [
      "C:\\Users\\yms10\\AppData\\Local\\Temp\\ipykernel_19060\\1771335312.py:3: FutureWarning: \n",
      "\n",
      "Passing `palette` without assigning `hue` is deprecated and will be removed in v0.14.0. Assign the `x` variable to `hue` and set `legend=False` for the same effect.\n",
      "\n",
      "  sns.boxplot(x='Churn', y='Usage Frequency', data=train, palette=['green','red'])\n"
     ]
    },
    {
     "data": {
      "image/png": "[encoded data removed]",
      "text/plain": [
       "<Figure size 600x400 with 1 Axes>"
      ]
     },
     "metadata": {},
     "output_type": "display_data"
    }
   ],
   "source": [
    "#시각화\n",
    "plt.figure(figsize=(6,4))\n",
    "sns.boxplot(x='Churn', y='Usage Frequency', data=train, palette=['green','red'])\n",
    "plt.title('Usage Frequency & Churn')\n",
    "plt.show()"
   ]
  },
  {
   "cell_type": "markdown",
   "id": "543601a2",
   "metadata": {},
   "source": [
    "### Boxplot 상으로는 유지자와 이탈자의 사용량 분포가 큰 차이가 있다고 보기 어려움"
   ]
  },
  {
   "cell_type": "code",
   "execution_count": 19,
   "id": "42041872",
   "metadata": {},
   "outputs": [
    {
     "name": "stdout",
     "output_type": "stream",
     "text": [
      "Usage Frequency\n",
      "(0.999, 9.0]    0.613675\n",
      "(9.0, 16.0]     0.549113\n",
      "(16.0, 23.0]    0.549166\n",
      "(23.0, 30.0]    0.548775\n",
      "Name: Churn, dtype: float64\n"
     ]
    },
    {
     "name": "stderr",
     "output_type": "stream",
     "text": [
      "C:\\Users\\yms10\\AppData\\Local\\Temp\\ipykernel_19060\\2926579876.py:3: FutureWarning: The default of observed=False is deprecated and will be changed to True in a future version of pandas. Pass observed=False to retain current behavior or observed=True to adopt the future default and silence this warning.\n",
      "  churn_rate_by_usage = train.groupby(usage_bins)['Churn'].mean()\n"
     ]
    },
    {
     "data": {
      "text/plain": [
       "<Axes: title={'center': 'Churn Rate by Usage Frequency Quartile'}, xlabel='Usage Frequency'>"
      ]
     },
     "execution_count": 19,
     "metadata": {},
     "output_type": "execute_result"
    },
    {
     "data": {
      "image/png": "[encoded data removed]",
      "text/plain": [
       "<Figure size 600x400 with 1 Axes>"
      ]
     },
     "metadata": {},
     "output_type": "display_data"
    }
   ],
   "source": [
    "#사용량을 4분위로 나눠서 이탈률 확인\n",
    "usage_bins = pd.qcut(train['Usage Frequency'], 4)\n",
    "churn_rate_by_usage = train.groupby(usage_bins)['Churn'].mean()\n",
    "print(churn_rate_by_usage)\n",
    "\n",
    "#시각화\n",
    "churn_rate_by_usage.plot(kind='bar', color=['Red','Gray','Gray','Gray'], figsize=(6,4), title='Churn Rate by Usage Frequency Quartile', rot=360)"
   ]
  },
  {
   "cell_type": "markdown",
   "id": "41d15f94",
   "metadata": {},
   "source": [
    "### <해석> \n",
    "- 사용량이 가장 낮은 그룹이 다른 그룹들에 비해 이탈률이 5% 이상 높다.\n",
    "- 그러나 일정 수준 이상의 사용량을 보이는 고객군에선 이탈률이 유사하게 유지되므로, 사용량 증가가 반드시 이탈률 감소로 이어지는 선형 관계는 아님."
   ]
  },
  {
   "cell_type": "markdown",
   "id": "75245954",
   "metadata": {},
   "source": [
    " ## (4) 연체 발생 횟수(Payment Delay)와 고객 이탈 여부(Churn) "
   ]
  },
  {
   "cell_type": "code",
   "execution_count": 20,
   "id": "41f97111",
   "metadata": {},
   "outputs": [
    {
     "data": {
      "text/plain": [
       "Churn\n",
       "0.0    10.015500\n",
       "1.0    15.217729\n",
       "Name: Payment Delay, dtype: float64"
      ]
     },
     "execution_count": 20,
     "metadata": {},
     "output_type": "execute_result"
    }
   ],
   "source": [
    "# 기초 통계 비교\n",
    "train.groupby('Churn')['Payment Delay'].mean()"
   ]
  },
  {
   "cell_type": "code",
   "execution_count": 21,
   "id": "934a8584",
   "metadata": {},
   "outputs": [
    {
     "name": "stderr",
     "output_type": "stream",
     "text": [
      "C:\\Users\\yms10\\AppData\\Local\\Temp\\ipykernel_19060\\3360007588.py:3: FutureWarning: \n",
      "\n",
      "Passing `palette` without assigning `hue` is deprecated and will be removed in v0.14.0. Assign the `x` variable to `hue` and set `legend=False` for the same effect.\n",
      "\n",
      "  sns.boxplot(x='Churn', y='Payment Delay', data= train, palette=['green', 'red'])\n"
     ]
    },
    {
     "data": {
      "image/png": "[encoded data removed]",
      "text/plain": [
       "<Figure size 600x400 with 1 Axes>"
      ]
     },
     "metadata": {},
     "output_type": "display_data"
    }
   ],
   "source": [
    "#시각화\n",
    "plt.figure(figsize = (6,4))\n",
    "sns.boxplot(x='Churn', y='Payment Delay', data= train, palette=['green', 'red'])\n",
    "plt.title('Payment Delay & Churn')\n",
    "plt.show()"
   ]
  },
  {
   "cell_type": "code",
   "execution_count": 22,
   "id": "3c42b55c",
   "metadata": {},
   "outputs": [
    {
     "data": {
      "text/html": [
       "<div>\n",
       "<style scoped>\n",
       "    .dataframe tbody tr th:only-of-type {\n",
       "        vertical-align: middle;\n",
       "    }\n",
       "\n",
       "    .dataframe tbody tr th {\n",
       "        vertical-align: top;\n",
       "    }\n",
       "\n",
       "    .dataframe thead th {\n",
       "        text-align: right;\n",
       "    }\n",
       "</style>\n",
       "<table border=\"1\" class=\"dataframe\">\n",
       "  <thead>\n",
       "    <tr style=\"text-align: right;\">\n",
       "      <th></th>\n",
       "      <th>Payment Delay</th>\n",
       "      <th>Churn</th>\n",
       "    </tr>\n",
       "  </thead>\n",
       "  <tbody>\n",
       "    <tr>\n",
       "      <th>Payment Delay</th>\n",
       "      <td>1.000000</td>\n",
       "      <td>0.312129</td>\n",
       "    </tr>\n",
       "    <tr>\n",
       "      <th>Churn</th>\n",
       "      <td>0.312129</td>\n",
       "      <td>1.000000</td>\n",
       "    </tr>\n",
       "  </tbody>\n",
       "</table>\n",
       "</div>"
      ],
      "text/plain": [
       "               Payment Delay     Churn\n",
       "Payment Delay       1.000000  0.312129\n",
       "Churn               0.312129  1.000000"
      ]
     },
     "execution_count": 22,
     "metadata": {},
     "output_type": "execute_result"
    }
   ],
   "source": [
    "#상관 계수 확인\n",
    "train[['Payment Delay', 'Churn']].corr()"
   ]
  },
  {
   "cell_type": "code",
   "execution_count": 23,
   "id": "5ac08fa8",
   "metadata": {},
   "outputs": [
    {
     "name": "stderr",
     "output_type": "stream",
     "text": [
      "C:\\Users\\yms10\\AppData\\Local\\Temp\\ipykernel_19060\\15250158.py:3: FutureWarning: The default of observed=False is deprecated and will be changed to True in a future version of pandas. Pass observed=False to retain current behavior or observed=True to adopt the future default and silence this warning.\n",
      "  churn_rate_by_delay = train.groupby(delay_bins)['Churn'].mean()\n"
     ]
    },
    {
     "data": {
      "text/plain": [
       "Payment Delay\n",
       "(-0.001, 6.0]    0.464817\n",
       "(6.0, 12.0]      0.465575\n",
       "(12.0, 19.0]     0.465079\n",
       "(19.0, 30.0]     0.909303\n",
       "Name: Churn, dtype: float64"
      ]
     },
     "execution_count": 23,
     "metadata": {},
     "output_type": "execute_result"
    }
   ],
   "source": [
    "# 구간별 이탈률 확인 \n",
    "delay_bins = pd.qcut(train['Payment Delay'], 4) #4분위로 나누기\n",
    "churn_rate_by_delay = train.groupby(delay_bins)['Churn'].mean()\n",
    "churn_rate_by_delay"
   ]
  },
  {
   "cell_type": "code",
   "execution_count": 24,
   "id": "aae91379",
   "metadata": {},
   "outputs": [
    {
     "data": {
      "text/plain": [
       "<Axes: title={'center': 'Churn Rate by Payment Delay Quartile'}, xlabel='Payment Delay'>"
      ]
     },
     "execution_count": 24,
     "metadata": {},
     "output_type": "execute_result"
    },
    {
     "data": {
      "image/png": "[encoded data removed]",
      "text/plain": [
       "<Figure size 600x400 with 1 Axes>"
      ]
     },
     "metadata": {},
     "output_type": "display_data"
    }
   ],
   "source": [
    "# 시각화\n",
    "churn_rate_by_delay.plot(kind = 'bar', color = ['Gray', 'Gray', 'Gray', 'Red'] ,figsize = (6,4), title = 'Churn Rate by Payment Delay Quartile', rot=360)"
   ]
  },
  {
   "cell_type": "markdown",
   "id": "321d4d31",
   "metadata": {},
   "source": [
    "### <해석>\n",
    "- 연체 횟수와 이탈 간 양의 관계 확인  \n",
    "  특히 19회 이상 연체한 고객은 90% 이상 이탈 \n",
    " \n",
    "- 이탈 고객 평균 연체 횟수가 유지 고객 대비 1.5배  \n",
    "  단순 평균 비교로도 차이가 뚜렷함"
   ]
  },
  {
   "cell_type": "markdown",
   "id": "37990290",
   "metadata": {},
   "source": [
    "## (5) 서비스 이용 후 지난 일수(Last Interaction) & 고객 이탈 여부(Churn)"
   ]
  },
  {
   "cell_type": "code",
   "execution_count": 25,
   "id": "dba6693c",
   "metadata": {},
   "outputs": [
    {
     "data": {
      "text/plain": [
       "Churn\n",
       "0.0    13.008804\n",
       "1.0    15.604546\n",
       "Name: Last Interaction, dtype: float64"
      ]
     },
     "execution_count": 25,
     "metadata": {},
     "output_type": "execute_result"
    }
   ],
   "source": [
    "# 기초 통계 비교\n",
    "train.groupby('Churn')['Last Interaction'].mean()"
   ]
  },
  {
   "cell_type": "code",
   "execution_count": 26,
   "id": "73c2e018",
   "metadata": {},
   "outputs": [
    {
     "name": "stderr",
     "output_type": "stream",
     "text": [
      "C:\\Users\\yms10\\AppData\\Local\\Temp\\ipykernel_19060\\2598052427.py:3: FutureWarning: \n",
      "\n",
      "Passing `palette` without assigning `hue` is deprecated and will be removed in v0.14.0. Assign the `x` variable to `hue` and set `legend=False` for the same effect.\n",
      "\n",
      "  sns.boxplot(x='Churn', y= 'Last Interaction', data= train, palette = ['blue', 'gold'])\n"
     ]
    },
    {
     "data": {
      "image/png": "[encoded data removed]",
      "text/plain": [
       "<Figure size 600x400 with 1 Axes>"
      ]
     },
     "metadata": {},
     "output_type": "display_data"
    }
   ],
   "source": [
    "# 시각화\n",
    "plt.figure(figsize = (6,4))\n",
    "sns.boxplot(x='Churn', y= 'Last Interaction', data= train, palette = ['blue', 'gold'])\n",
    "plt.title('Last Interaction & Churn')\n",
    "plt.show()"
   ]
  },
  {
   "cell_type": "code",
   "execution_count": 27,
   "id": "c7872a88",
   "metadata": {},
   "outputs": [
    {
     "data": {
      "text/html": [
       "<div>\n",
       "<style scoped>\n",
       "    .dataframe tbody tr th:only-of-type {\n",
       "        vertical-align: middle;\n",
       "    }\n",
       "\n",
       "    .dataframe tbody tr th {\n",
       "        vertical-align: top;\n",
       "    }\n",
       "\n",
       "    .dataframe thead th {\n",
       "        text-align: right;\n",
       "    }\n",
       "</style>\n",
       "<table border=\"1\" class=\"dataframe\">\n",
       "  <thead>\n",
       "    <tr style=\"text-align: right;\">\n",
       "      <th></th>\n",
       "      <th>Last Interaction</th>\n",
       "      <th>Churn</th>\n",
       "    </tr>\n",
       "  </thead>\n",
       "  <tbody>\n",
       "    <tr>\n",
       "      <th>Last Interaction</th>\n",
       "      <td>1.000000</td>\n",
       "      <td>0.149616</td>\n",
       "    </tr>\n",
       "    <tr>\n",
       "      <th>Churn</th>\n",
       "      <td>0.149616</td>\n",
       "      <td>1.000000</td>\n",
       "    </tr>\n",
       "  </tbody>\n",
       "</table>\n",
       "</div>"
      ],
      "text/plain": [
       "                  Last Interaction     Churn\n",
       "Last Interaction          1.000000  0.149616\n",
       "Churn                     0.149616  1.000000"
      ]
     },
     "execution_count": 27,
     "metadata": {},
     "output_type": "execute_result"
    }
   ],
   "source": [
    "#상관계수 확인\n",
    "train[['Last Interaction', 'Churn']].corr()"
   ]
  },
  {
   "cell_type": "code",
   "execution_count": 28,
   "id": "222a0848",
   "metadata": {},
   "outputs": [
    {
     "name": "stderr",
     "output_type": "stream",
     "text": [
      "C:\\Users\\yms10\\AppData\\Local\\Temp\\ipykernel_19060\\277658928.py:3: FutureWarning: The default of observed=False is deprecated and will be changed to True in a future version of pandas. Pass observed=False to retain current behavior or observed=True to adopt the future default and silence this warning.\n",
      "  churn_rate_by_last_inter = train.groupby(last_inter_bins)\n"
     ]
    },
    {
     "data": {
      "text/plain": [
       "Last Interaction\n",
       "(0.999, 7.0]    0.492289\n",
       "(7.0, 14.0]     0.492522\n",
       "(14.0, 22.0]    0.637718\n",
       "(22.0, 30.0]    0.665480\n",
       "Name: Churn, dtype: float64"
      ]
     },
     "execution_count": 28,
     "metadata": {},
     "output_type": "execute_result"
    }
   ],
   "source": [
    "# 구간별 이탈률 확인\n",
    "last_inter_bins = pd.qcut(train['Last Interaction'], 4)\n",
    "churn_rate_by_last_inter = train.groupby(last_inter_bins)\n",
    "churn_rate_by_last_inter['Churn'].mean()"
   ]
  },
  {
   "cell_type": "markdown",
   "id": "cfb18ff7",
   "metadata": {},
   "source": [
    "### <해석>\n",
    "- 최근 2주 이내 이용 고객은 이탸률이 49% 수준으로 안정적  \n",
    "  2주 이상 이용 고객은 이탈률이 급격히 증가함  \n",
    "=> 장기간 미사용이 이탈 위험을 높이는 명확한 경향이 있음\n",
    "\n",
    "- 0.14로 약한 양의 상관이 나오는 이유는, 실제로는 14일을 기점으로 급격하게 변화하는 비선형 관계이기 때문."
   ]
  },
  {
   "cell_type": "markdown",
   "id": "daaed5dc",
   "metadata": {},
   "source": [
    "# 2. 데이터 전처리"
   ]
  },
  {
   "cell_type": "markdown",
   "id": "bc1fbffc",
   "metadata": {},
   "source": [
    "## (1) 변수 분리"
   ]
  },
  {
   "cell_type": "code",
   "execution_count": 29,
   "id": "7c4cb86d",
   "metadata": {},
   "outputs": [],
   "source": [
    "from sklearn.model_selection import train_test_split"
   ]
  },
  {
   "cell_type": "code",
   "execution_count": 30,
   "id": "268a1eef",
   "metadata": {},
   "outputs": [],
   "source": [
    "y = train['Churn']\n",
    "X = train.drop(columns = ['Churn', 'CustomerID'])"
   ]
  },
  {
   "cell_type": "code",
   "execution_count": 31,
   "id": "1250238c",
   "metadata": {},
   "outputs": [],
   "source": [
    "X_train_raw , X_val_raw, y_train, y_val = train_test_split(X,y, test_size = 0.2 , random_state= 42)"
   ]
  },
  {
   "cell_type": "markdown",
   "id": "78e6dd7e",
   "metadata": {},
   "source": [
    "## (2) 결측치 처리하기"
   ]
  },
  {
   "cell_type": "code",
   "execution_count": 32,
   "id": "b4698795",
   "metadata": {},
   "outputs": [
    {
     "data": {
      "text/plain": [
       "CustomerID           1\n",
       "Age                  1\n",
       "Gender               1\n",
       "Tenure               1\n",
       "Usage Frequency      1\n",
       "Support Calls        1\n",
       "Payment Delay        1\n",
       "Subscription Type    1\n",
       "Contract Length      1\n",
       "Total Spend          1\n",
       "Last Interaction     1\n",
       "Churn                1\n",
       "dtype: int64"
      ]
     },
     "execution_count": 32,
     "metadata": {},
     "output_type": "execute_result"
    }
   ],
   "source": [
    "train.isnull().sum()"
   ]
  },
  {
   "cell_type": "code",
   "execution_count": 33,
   "id": "1b339ad8",
   "metadata": {},
   "outputs": [
    {
     "data": {
      "text/html": [
       "<div>\n",
       "<style scoped>\n",
       "    .dataframe tbody tr th:only-of-type {\n",
       "        vertical-align: middle;\n",
       "    }\n",
       "\n",
       "    .dataframe tbody tr th {\n",
       "        vertical-align: top;\n",
       "    }\n",
       "\n",
       "    .dataframe thead th {\n",
       "        text-align: right;\n",
       "    }\n",
       "</style>\n",
       "<table border=\"1\" class=\"dataframe\">\n",
       "  <thead>\n",
       "    <tr style=\"text-align: right;\">\n",
       "      <th></th>\n",
       "      <th>CustomerID</th>\n",
       "      <th>Age</th>\n",
       "      <th>Gender</th>\n",
       "      <th>Tenure</th>\n",
       "      <th>Usage Frequency</th>\n",
       "      <th>Support Calls</th>\n",
       "      <th>Payment Delay</th>\n",
       "      <th>Subscription Type</th>\n",
       "      <th>Contract Length</th>\n",
       "      <th>Total Spend</th>\n",
       "      <th>Last Interaction</th>\n",
       "      <th>Churn</th>\n",
       "    </tr>\n",
       "  </thead>\n",
       "  <tbody>\n",
       "    <tr>\n",
       "      <th>199295</th>\n",
       "      <td>NaN</td>\n",
       "      <td>NaN</td>\n",
       "      <td>NaN</td>\n",
       "      <td>NaN</td>\n",
       "      <td>NaN</td>\n",
       "      <td>NaN</td>\n",
       "      <td>NaN</td>\n",
       "      <td>NaN</td>\n",
       "      <td>NaN</td>\n",
       "      <td>NaN</td>\n",
       "      <td>NaN</td>\n",
       "      <td>NaN</td>\n",
       "    </tr>\n",
       "  </tbody>\n",
       "</table>\n",
       "</div>"
      ],
      "text/plain": [
       "        CustomerID  Age Gender  Tenure  Usage Frequency  Support Calls  \\\n",
       "199295         NaN  NaN    NaN     NaN              NaN            NaN   \n",
       "\n",
       "        Payment Delay Subscription Type Contract Length  Total Spend  \\\n",
       "199295            NaN               NaN             NaN          NaN   \n",
       "\n",
       "        Last Interaction  Churn  \n",
       "199295               NaN    NaN  "
      ]
     },
     "execution_count": 33,
     "metadata": {},
     "output_type": "execute_result"
    }
   ],
   "source": [
    "# NAN이 하나라도 존재하는 행 보기\n",
    "train[train.isnull().any(axis = 1)]"
   ]
  },
  {
   "cell_type": "code",
   "execution_count": 34,
   "id": "350a5353",
   "metadata": {},
   "outputs": [],
   "source": [
    "# 한 고객의 모든 컬럼이 NaN => 삭제한다\n",
    "train = train.dropna(how = 'all')"
   ]
  },
  {
   "cell_type": "code",
   "execution_count": 35,
   "id": "bae3b83e",
   "metadata": {},
   "outputs": [
    {
     "data": {
      "text/plain": [
       "CustomerID           0\n",
       "Age                  0\n",
       "Gender               0\n",
       "Tenure               0\n",
       "Usage Frequency      0\n",
       "Support Calls        0\n",
       "Payment Delay        0\n",
       "Subscription Type    0\n",
       "Contract Length      0\n",
       "Total Spend          0\n",
       "Last Interaction     0\n",
       "Churn                0\n",
       "dtype: int64"
      ]
     },
     "execution_count": 35,
     "metadata": {},
     "output_type": "execute_result"
    }
   ],
   "source": [
    "#test에도 동일하게 적용\n",
    "test.isnull().sum()\n",
    "# 결측치 없당! 앗싸리"
   ]
  },
  {
   "cell_type": "markdown",
   "id": "1ece8353",
   "metadata": {},
   "source": [
    "## (3) 인코딩 & 스케일링"
   ]
  },
  {
   "cell_type": "code",
   "execution_count": 36,
   "id": "4e7c2a57",
   "metadata": {},
   "outputs": [
    {
     "name": "stdout",
     "output_type": "stream",
     "text": [
      "전처리 완료: (352666, 18) (88167, 18)\n"
     ]
    }
   ],
   "source": [
    "from sklearn.preprocessing import OneHotEncoder, StandardScaler\n",
    "\n",
    "# 0) 변수 자동 선택\n",
    "if 'X_train_raw' in globals() and 'X_val_raw' in globals():\n",
    "    Xtr = X_train_raw.copy()\n",
    "    Xva = X_val_raw.copy()\n",
    "else:\n",
    "    Xtr = X_train.copy()\n",
    "    Xva = X_val.copy()\n",
    "\n",
    "# 1) 수치/범주 컬럼 지정 (데이터에 실제 존재하는 컬럼만 사용)\n",
    "num_cols_all = [\"Age\",\"Tenure\",\"Usage Frequency\",\"Support Calls\",\n",
    "                \"Payment Delay\",\"Total Spend\",\"Last Interaction\"]\n",
    "cat_cols_all = [\"Gender\",\"Subscription Type\",\"Contract Length\"]\n",
    "\n",
    "num_cols = [c for c in num_cols_all if c in Xtr.columns]\n",
    "cat_cols = [c for c in cat_cols_all if c in Xtr.columns]\n",
    "\n",
    "# 2) 원핫 인코딩\n",
    "try:\n",
    "    ohe = OneHotEncoder(drop=\"if_binary\", handle_unknown=\"ignore\", sparse_output=False)  # sklearn >=1.2\n",
    "except TypeError:\n",
    "    ohe = OneHotEncoder(drop=\"if_binary\", handle_unknown=\"ignore\", sparse=False)        # sklearn <=1.1\n",
    "\n",
    "# 3) 인코딩: train에 fit → val에 transform\n",
    "if len(cat_cols) > 0:\n",
    "    Xtr_cat = ohe.fit_transform(Xtr[cat_cols])\n",
    "    Xva_cat = ohe.transform(Xva[cat_cols])\n",
    "    cat_names = ohe.get_feature_names_out(cat_cols)\n",
    "else:\n",
    "    Xtr_cat = np.empty((len(Xtr), 0))\n",
    "    Xva_cat = np.empty((len(Xva), 0))\n",
    "    cat_names = np.array([], dtype=str)\n",
    "\n",
    "# 4) 스케일링: train에 fit → val에 transform\n",
    "scaler = StandardScaler()\n",
    "if len(num_cols) > 0:\n",
    "    Xtr_num = scaler.fit_transform(Xtr[num_cols])\n",
    "    Xva_num = scaler.transform(Xva[num_cols])\n",
    "else:\n",
    "    Xtr_num = np.empty((len(Xtr), 0))\n",
    "    Xva_num = np.empty((len(Xva), 0))\n",
    "\n",
    "# 5) 합치기 + DataFrame화\n",
    "X_train_arr = np.hstack([Xtr_num, Xtr_cat])\n",
    "X_val_arr   = np.hstack([Xva_num, Xva_cat])\n",
    "feature_names = np.concatenate([np.array(num_cols), cat_names])\n",
    "\n",
    "X_train_df = pd.DataFrame(X_train_arr, columns=feature_names, index=Xtr.index)\n",
    "X_val_df   = pd.DataFrame(X_val_arr,   columns=feature_names, index=Xva.index)\n",
    "\n",
    "# 6) 안전 확인\n",
    "bad_train = X_train_df.select_dtypes(exclude=[np.number]).columns.tolist()\n",
    "bad_val   = X_val_df.select_dtypes(exclude=[np.number]).columns.tolist()\n",
    "assert not bad_train and not bad_val, f\"숫자가 아닌 컬럼 존재: train {bad_train}, val {bad_val}\"\n",
    "\n",
    "print(\"전처리 완료:\", X_train_df.shape, X_val_df.shape)\n"
   ]
  },
  {
   "cell_type": "markdown",
   "id": "86934a86",
   "metadata": {},
   "source": [
    "## (4) 모델 정의 & 평가"
   ]
  },
  {
   "cell_type": "code",
   "execution_count": 38,
   "id": "2e3f5c14",
   "metadata": {},
   "outputs": [
    {
     "name": "stdout",
     "output_type": "stream",
     "text": [
      "✅ y 정리 완료:\n",
      "train NaN=0, val NaN=0\n",
      "train classes={1: 199975, 0: 152690}\n",
      "val classes={1: 50024, 0: 38143}\n"
     ]
    }
   ],
   "source": [
    "\n",
    "# 1) y 표준화 함수: 문자열/불리언도 0/1로, 숫자 외는 NaN으로\n",
    "def normalize_y(s: pd.Series) -> pd.Series:\n",
    "    s2 = s.copy()\n",
    "    s2 = s2.replace({True:1, False:0, \"Yes\":1, \"No\":0, \"Y\":1, \"N\":0, \"yes\":1, \"no\":0})\n",
    "    s2 = pd.to_numeric(s2, errors=\"coerce\")  # 숫자 아니면 NaN으로\n",
    "    return s2\n",
    "\n",
    "# 2) y 정규화\n",
    "y_train = normalize_y(y_train)\n",
    "y_val   = normalize_y(y_val)\n",
    "\n",
    "# 3) NaN 행 동시 제거 (X, y 함께)\n",
    "bad_tr = y_train[y_train.isna()].index\n",
    "bad_va = y_val[y_val.isna()].index\n",
    "\n",
    "if len(bad_tr):\n",
    "    X_train_df = X_train_df.drop(index=bad_tr)\n",
    "    y_train    = y_train.drop(index=bad_tr)\n",
    "\n",
    "if len(bad_va):\n",
    "    X_val_df = X_val_df.drop(index=bad_va)\n",
    "    y_val    = y_val.drop(index=bad_va)\n",
    "\n",
    "# 4) 최종 타입 캐스팅\n",
    "y_train = y_train.astype(int)\n",
    "y_val   = y_val.astype(int)\n",
    "\n",
    "print(\"✅ y 정리 완료:\",\n",
    "      f\"train NaN={y_train.isna().sum()}, val NaN={y_val.isna().sum()}\",\n",
    "      f\"train classes={y_train.value_counts().to_dict()}\",\n",
    "      f\"val classes={y_val.value_counts().to_dict()}\",\n",
    "      sep=\"\\n\")\n"
   ]
  },
  {
   "cell_type": "code",
   "execution_count": 39,
   "id": "bffa2b6c",
   "metadata": {},
   "outputs": [
    {
     "name": "stdout",
     "output_type": "stream",
     "text": [
      "모델 성능 비교\n",
      "          Model  Accuracy        F1   ROC-AUC    PR-AUC\n",
      "4       XGBoost  0.999921  0.999930  1.000000  1.000000\n",
      "3  RandomForest  0.999456  0.999520  1.000000  1.000000\n",
      "2     Lasso(L1)  0.897603  0.906325  0.960279  0.974864\n",
      "0  Logistic(L2)  0.897581  0.906304  0.960280  0.974864\n",
      "1         Ridge  0.739075  0.701401  0.958740  0.973470\n",
      "\n",
      "[XGBoost] F1 최적 임계값: 0.937, F1: 0.9999\n",
      "\n",
      "[중요도 Top10]\n",
      " Contract Length_Monthly    0.281244\n",
      "Total Spend                0.207968\n",
      "Support Calls              0.171106\n",
      "Payment Delay              0.121841\n",
      "Gender_Female              0.093494\n",
      "Gender_Male                0.046940\n",
      "Age                        0.044465\n",
      "Last Interaction           0.013303\n",
      "Subscription Type_Basic    0.008077\n",
      "Tenure                     0.007077\n",
      "dtype: float32\n"
     ]
    }
   ],
   "source": [
    "\n",
    "from sklearn.linear_model import LogisticRegression, RidgeClassifier\n",
    "from sklearn.ensemble import RandomForestClassifier\n",
    "from sklearn.metrics import accuracy_score, f1_score, roc_auc_score, average_precision_score, precision_recall_curve\n",
    "\n",
    "# 0) y 타입 안전장치\n",
    "y_train = y_train.astype(int)\n",
    "y_val   = y_val.astype(int)\n",
    "\n",
    "# 1) 모델들 정의\n",
    "models = {\n",
    "    \"Logistic(L2)\": LogisticRegression(max_iter=1000, random_state=42, class_weight=\"balanced\"),\n",
    "    \"Ridge\":        RidgeClassifier(random_state=42, class_weight=\"balanced\"),\n",
    "    \"Lasso(L1)\":    LogisticRegression(penalty=\"l1\", solver=\"liblinear\", random_state=42, class_weight=\"balanced\"),\n",
    "    \"RandomForest\": RandomForestClassifier(n_estimators=300, max_depth=None, class_weight=\"balanced_subsample\",\n",
    "                                           random_state=42, n_jobs=-1)\n",
    "}\n",
    "\n",
    "# XGBoost \n",
    "try:\n",
    "    from xgboost import XGBClassifier\n",
    "    models[\"XGBoost\"] = XGBClassifier(\n",
    "        n_estimators=400, learning_rate=0.1, max_depth=5,\n",
    "        subsample=0.9, colsample_bytree=0.9,\n",
    "        random_state=42, eval_metric=\"logloss\"\n",
    "    )\n",
    "except Exception as e:\n",
    "    print(\"[Info] XGBoost 불러오기 실패 → 건너뜀:\", e)\n",
    "\n",
    "# 2) 학습 + 평가\n",
    "results, fitted = [], {}\n",
    "for name, clf in models.items():\n",
    "    clf.fit(X_train_df, y_train)\n",
    "    fitted[name] = clf\n",
    "\n",
    "    # 점수\n",
    "    if hasattr(clf, \"predict_proba\"):\n",
    "        val_score = clf.predict_proba(X_val_df)[:, 1]\n",
    "    elif hasattr(clf, \"decision_function\"):\n",
    "        val_score = clf.decision_function(X_val_df)\n",
    "    else:\n",
    "        # 드문 케이스: 확률 없음 → 예측값으로 대체\n",
    "        val_score = clf.predict(X_val_df)\n",
    "\n",
    "    # 기본 임계값 0.5\n",
    "    y_pred = (val_score >= 0.5).astype(int)\n",
    "\n",
    "    results.append({\n",
    "        \"Model\": name,\n",
    "        \"Accuracy\": accuracy_score(y_val, y_pred),\n",
    "        \"F1\": f1_score(y_val, y_pred),\n",
    "        \"ROC-AUC\": roc_auc_score(y_val, val_score),\n",
    "        \"PR-AUC\": average_precision_score(y_val, val_score)\n",
    "    })\n",
    "\n",
    "res = pd.DataFrame(results).sort_values(by=[\"F1\",\"PR-AUC\",\"ROC-AUC\"], ascending=False)\n",
    "print(\"모델 성능 비교\")\n",
    "print(res)\n",
    "\n",
    "# 3) 최상위 모델 임계값(F1 최적) 튜닝\n",
    "best_name = res.iloc[0][\"Model\"]\n",
    "best_clf  = fitted[best_name]\n",
    "if hasattr(best_clf, \"predict_proba\"):\n",
    "    scores = best_clf.predict_proba(X_val_df)[:, 1]\n",
    "else:\n",
    "    scores = best_clf.decision_function(X_val_df)\n",
    "\n",
    "prec, rec, thr = precision_recall_curve(y_val, scores)\n",
    "f1s = 2*prec*rec/(prec+rec + 1e-12)\n",
    "best_idx = np.nanargmax(f1s)\n",
    "best_thr = thr[best_idx] if best_idx < len(thr) else 0.5\n",
    "print(f\"\\n[{best_name}] F1 최적 임계값: {best_thr:.3f}, F1: {f1s[best_idx]:.4f}\")\n",
    "\n",
    "# 4) 변수 중요도/계수 Top 10\n",
    "feature_names = X_train_df.columns\n",
    "\n",
    "def show_tree_importance(m, k=10):\n",
    "    imps = pd.Series(m.feature_importances_, index=feature_names).sort_values(ascending=False).head(k)\n",
    "    print(\"\\n[중요도 Top10]\\n\", imps)\n",
    "\n",
    "def show_logit_coefs(m, k=10):\n",
    "    coefs = pd.Series(m.coef_.ravel(), index=feature_names)\n",
    "    print(\"\\n[양(+) 영향 Top10]\\n\", coefs.sort_values(ascending=False).head(k))\n",
    "    print(\"\\n[음(-) 영향 Top10]\\n\", coefs.sort_values().head(k))\n",
    "\n",
    "m = best_clf\n",
    "if hasattr(m, \"feature_importances_\"):\n",
    "    show_tree_importance(m)\n",
    "elif hasattr(m, \"coef_\"):\n",
    "    show_logit_coefs(m)\n",
    "\n"
   ]
  },
  {
   "cell_type": "markdown",
   "id": "e3a6fc17",
   "metadata": {},
   "source": [
    "##### 누수 발생........................하.....ㅠㅠ 왜구래ㅠㅠㅠㅠ"
   ]
  },
  {
   "cell_type": "markdown",
   "id": "a00a52d7",
   "metadata": {},
   "source": [
    "## 누수 원인 파악.."
   ]
  },
  {
   "cell_type": "code",
   "execution_count": 44,
   "id": "e71be220",
   "metadata": {},
   "outputs": [
    {
     "name": "stdout",
     "output_type": "stream",
     "text": [
      "Decision stump F1: 0.7245189197417325\n"
     ]
    }
   ],
   "source": [
    "from sklearn.tree import DecisionTreeClassifier\n",
    "from sklearn.metrics import f1_score\n",
    "\n",
    "stump = DecisionTreeClassifier(max_depth=1, random_state=42)\n",
    "stump.fit(X_train_df, y_train)\n",
    "print(\"Decision stump F1:\", f1_score(y_val, stump.predict(X_val_df)))\n",
    "\n",
    "#문제 없음"
   ]
  },
  {
   "cell_type": "code",
   "execution_count": 45,
   "id": "994bba2e",
   "metadata": {},
   "outputs": [
    {
     "name": "stdout",
     "output_type": "stream",
     "text": [
      "[RF 중요도 Top10]\n",
      " Support Calls                0.292247\n",
      "Total Spend                  0.205044\n",
      "Age                          0.139036\n",
      "Payment Delay                0.122295\n",
      "Contract Length_Monthly      0.110131\n",
      "Last Interaction             0.050466\n",
      "Contract Length_Quarterly    0.017754\n",
      "Gender_Male                  0.016073\n",
      "Gender_Female                0.015974\n",
      "Contract Length_Annual       0.014888\n",
      "dtype: float64\n",
      "\n",
      "[Top10 단일피처 AUC]\n",
      "                      feature   val_auc\n",
      "0              Support Calls  0.822870\n",
      "4    Contract Length_Monthly  0.675366\n",
      "3              Payment Delay  0.667589\n",
      "2                        Age  0.615010\n",
      "8              Gender_Female  0.587534\n",
      "5           Last Interaction  0.587347\n",
      "9     Contract Length_Annual  0.413965\n",
      "7                Gender_Male  0.412466\n",
      "6  Contract Length_Quarterly  0.410669\n",
      "1                Total Spend  0.263662\n"
     ]
    }
   ],
   "source": [
    "import numpy as np, pandas as pd\n",
    "from sklearn.ensemble import RandomForestClassifier\n",
    "from sklearn.metrics import roc_auc_score\n",
    "\n",
    "rf = RandomForestClassifier(n_estimators=300, random_state=42, n_jobs=-1).fit(X_train_df, y_train)\n",
    "imp = pd.Series(rf.feature_importances_, index=X_train_df.columns).sort_values(ascending=False)\n",
    "\n",
    "print(\"[RF 중요도 Top10]\\n\", imp.head(10))\n",
    "sus = []\n",
    "for f in imp.head(10).index:\n",
    "    v = X_val_df[f].values\n",
    "    if np.unique(v).size > 1:\n",
    "        sus.append((f, roc_auc_score(y_val, v)))\n",
    "print(\"\\n[Top10 단일피처 AUC]\\n\", pd.DataFrame(sus, columns=[\"feature\",\"val_auc\"]).sort_values(\"val_auc\", ascending=False))\n",
    "\n",
    "# 문제 없음"
   ]
  },
  {
   "cell_type": "code",
   "execution_count": 46,
   "id": "cb9a71aa",
   "metadata": {},
   "outputs": [
    {
     "name": "stdout",
     "output_type": "stream",
     "text": [
      "Train/Val 완전 동일 행 중복 수: 0\n"
     ]
    }
   ],
   "source": [
    "import pandas as pd\n",
    "\n",
    "def row_hash(df):\n",
    "    cols = sorted(df.columns.tolist())\n",
    "    return pd.util.hash_pandas_object(df[cols].astype(str), index=False)\n",
    "\n",
    "h_tr = set(row_hash(X_train_raw))\n",
    "h_va = set(row_hash(X_val_raw))\n",
    "print(\"Train/Val 완전 동일 행 중복 수:\", len(h_tr & h_va))\n",
    "\n",
    "# ID 겹침 체크\n",
    "id_col = next((c for c in [\"CustomerID\"] if c in X_train_raw.columns and c in X_val_raw.columns), None)\n",
    "if id_col:\n",
    "    overlap = set(X_train_raw[id_col]) & set(X_val_raw[id_col])\n",
    "    print(\"Train/Val 겹치는 ID 수:\", len(overlap))\n",
    "\n"
   ]
  },
  {
   "cell_type": "code",
   "execution_count": 49,
   "id": "7e65f360",
   "metadata": {},
   "outputs": [
    {
     "name": "stdout",
     "output_type": "stream",
     "text": [
      "겹치는 ID 컬럼 없음\n"
     ]
    }
   ],
   "source": [
    "# CustomerID 같은 식별자 컬럼이 있으면 꼭 확인!\n",
    "id_col = next((c for c in [\"CustomerID\"] if c in X_train_raw.columns and c in X_val_raw.columns), None)\n",
    "if id_col:\n",
    "    overlap = set(X_train_raw[id_col]) & set(X_val_raw[id_col])\n",
    "    print(\"Train/Val 겹치는 ID 수:\", len(overlap))\n",
    "else:\n",
    "    print(\"겹치는 ID 컬럼 없음\")\n"
   ]
  },
  {
   "cell_type": "code",
   "execution_count": 48,
   "id": "c0121fd9",
   "metadata": {},
   "outputs": [
    {
     "name": "stdout",
     "output_type": "stream",
     "text": [
      "Depth=1 F1: 0.7245189197417325\n",
      "Depth=2 F1: 0.8749426573426573\n",
      "Depth=3 F1: 0.927788441032203\n",
      "|--- Support Calls <= 0.29\n",
      "|   |--- Total Spend <= -0.55\n",
      "|   |   |--- Total Spend <= -0.55\n",
      "|   |   |   |--- class: 1\n",
      "|   |   |--- Total Spend >  -0.55\n",
      "|   |   |   |--- class: 1\n",
      "|   |--- Total Spend >  -0.55\n",
      "|   |   |--- Contract Length_Monthly <= 0.50\n",
      "|   |   |   |--- class: 0\n",
      "|   |   |--- Contract Length_Monthly >  0.50\n",
      "|   |   |   |--- class: 1\n",
      "|--- Support Calls >  0.29\n",
      "|   |--- Support Calls <= 0.62\n",
      "|   |   |--- Age <= 0.82\n",
      "|   |   |   |--- class: 1\n",
      "|   |   |--- Age >  0.82\n",
      "|   |   |   |--- class: 1\n",
      "|   |--- Support Calls >  0.62\n",
      "|   |   |--- class: 1\n",
      "\n"
     ]
    }
   ],
   "source": [
    "from sklearn.tree import DecisionTreeClassifier, export_text\n",
    "from sklearn.metrics import f1_score\n",
    "\n",
    "for d in [1,2,3]:\n",
    "    stump = DecisionTreeClassifier(max_depth=d, random_state=42)\n",
    "    stump.fit(X_train_df, y_train)\n",
    "    pred = stump.predict(X_val_df)\n",
    "    print(f\"Depth={d} F1:\", f1_score(y_val, pred))\n",
    "\n",
    "# 규칙 확인 (어떤 피처+임계값으로 가르는지)\n",
    "print(export_text(stump, feature_names=list(X_train_df.columns)))\n"
   ]
  },
  {
   "cell_type": "code",
   "execution_count": null,
   "id": "3231323d",
   "metadata": {},
   "outputs": [
    {
     "name": "stdout",
     "output_type": "stream",
     "text": [
      "✅ y 정리 완료:\n",
      "NaN=0\n",
      "classes={1: 249999, 0: 190833}\n",
      "CV F1: [0.97079903 0.97036028 0.97057679 0.97469    0.97215889] → mean: 0.9717169976761435\n"
     ]
    }
   ],
   "source": [
    "import numpy as np\n",
    "import pandas as pd\n",
    "from sklearn.model_selection import StratifiedKFold, cross_val_score\n",
    "from sklearn.pipeline import Pipeline\n",
    "from sklearn.compose import ColumnTransformer\n",
    "from sklearn.preprocessing import OneHotEncoder, StandardScaler\n",
    "from sklearn.impute import SimpleImputer\n",
    "from sklearn.ensemble import RandomForestClassifier\n",
    "\n",
    "# 0) X, y 다시 만들기\n",
    "TARGET = \"Churn\"\n",
    "X = train.drop(columns=[TARGET]).copy()\n",
    "y_raw = train[TARGET].copy()\n",
    "\n",
    "# ID 제거\n",
    "for id_col in [\"CustomerID\"]:\n",
    "    if id_col in X.columns:\n",
    "        X.drop(columns=[id_col], inplace=True)\n",
    "\n",
    "# 1) y 전역 정규화 + NaN 동시 제거\n",
    "def normalize_y(s: pd.Series) -> pd.Series:\n",
    "    s2 = s.replace({True:1, False:0, \"Yes\":1, \"No\":0, \"Y\":1, \"N\":0,\n",
    "                    \"yes\":1, \"no\":0, \"1\":1, \"0\":0})\n",
    "    s2 = pd.to_numeric(s2, errors=\"coerce\")\n",
    "    return s2\n",
    "\n",
    "y = normalize_y(y_raw)\n",
    "mask = y.notna()\n",
    "X = X.loc[mask].reset_index(drop=True)\n",
    "y = y.loc[mask].astype(int).reset_index(drop=True)\n",
    "\n",
    "print(\"y 정리 완료:\",\n",
    "      f\"NaN={y.isna().sum()}\",\n",
    "      f\"classes={y.value_counts().to_dict()}\",\n",
    "      sep=\"\\n\")\n",
    "\n",
    "# 2) 컬럼 스펙\n",
    "num_cols = [c for c in [\"Age\",\"Tenure\",\"Usage Frequency\",\"Support Calls\",\n",
    "                        \"Payment Delay\",\"Total Spend\",\"Last Interaction\"]\n",
    "            if c in X.columns]\n",
    "cat_cols = [c for c in [\"Gender\",\"Subscription Type\",\"Contract Length\"]\n",
    "            if c in X.columns]\n",
    "\n",
    "# 3) 전처리 파이프라인 (CV용: 폴드마다 fit됨 → 누수 방지)\n",
    "try:\n",
    "    ohe = OneHotEncoder(handle_unknown=\"ignore\", drop=\"if_binary\", sparse_output=False)  # sklearn >=1.2\n",
    "except TypeError:\n",
    "    ohe = OneHotEncoder(handle_unknown=\"ignore\", drop=\"if_binary\", sparse=False)        # sklearn <=1.1\n",
    "\n",
    "pre = ColumnTransformer([\n",
    "    (\"num\", Pipeline([\n",
    "        (\"imp\", SimpleImputer(strategy=\"median\")),\n",
    "        (\"scaler\", StandardScaler())\n",
    "    ]), num_cols),\n",
    "    (\"cat\", Pipeline([\n",
    "        (\"imp\", SimpleImputer(strategy=\"most_frequent\")),\n",
    "        (\"ohe\", ohe)\n",
    "    ]), cat_cols)\n",
    "])\n",
    "\n",
    "pipe = Pipeline([\n",
    "    (\"pre\", pre),\n",
    "    (\"clf\", RandomForestClassifier(n_estimators=300, max_depth=3,\n",
    "                                  class_weight=\"balanced_subsample\",\n",
    "                                  random_state=42, n_jobs=-1))\n",
    "])\n",
    "\n",
    "# 4) 교차검증\n",
    "from sklearn.metrics import make_scorer, f1_score\n",
    "cv = StratifiedKFold(n_splits=5, shuffle=True, random_state=42)\n",
    "scores = cross_val_score(pipe, X, y, cv=cv, scoring=make_scorer(f1_score))\n",
    "print(\"CV F1:\", scores, \"→ mean:\", scores.mean())\n"
   ]
  },
  {
   "cell_type": "code",
   "execution_count": null,
   "id": "803e05bb",
   "metadata": {},
   "outputs": [
    {
     "name": "stdout",
     "output_type": "stream",
     "text": [
      "=== CV 성능 (F1) ===\n",
      "          Model  F1(mean)   F1(std)\n",
      "4   XGB(depth3)  0.999414  0.000100\n",
      "3    RF(depth3)  0.965893  0.001658\n",
      "0  Logistic(L2)  0.904878  0.000725\n",
      "2     Lasso(L1)  0.904849  0.000717\n",
      "1         Ridge  0.884835  0.001008\n",
      "\n",
      "[선택] 최적 모델: XGB(depth3)\n",
      "\n",
      "[임계값 튜닝] OOF 기준 최적 threshold=0.197, F1=0.9998, PR-AUC=1.0000, ROC-AUC=1.0000\n",
      "\n",
      " Saved: submission.csv\n"
     ]
    }
   ],
   "source": [
    "\n",
    "\n",
    "TARGET = \"Churn\"\n",
    "\n",
    "# 컬럼 스펙\n",
    "num_cols = [c for c in [\"Age\",\"Tenure\",\"Usage Frequency\",\"Support Calls\",\n",
    "                        \"Payment Delay\",\"Total Spend\",\"Last Interaction\"]\n",
    "            if c in X.columns]\n",
    "cat_cols = [c for c in [\"Gender\",\"Subscription Type\",\"Contract Length\"]\n",
    "            if c in X.columns]\n",
    "\n",
    "# OneHot 버전 호환\n",
    "try:\n",
    "    ohe = OneHotEncoder(handle_unknown=\"ignore\", drop=\"if_binary\", sparse_output=False)  # sklearn >=1.2\n",
    "except TypeError:\n",
    "    ohe = OneHotEncoder(handle_unknown=\"ignore\", drop=\"if_binary\", sparse=False)        # sklearn <=1.1\n",
    "\n",
    "pre = ColumnTransformer([\n",
    "    (\"num\", Pipeline([(\"imp\", SimpleImputer(strategy=\"median\")), (\"scaler\", StandardScaler())]), num_cols),\n",
    "    (\"cat\", Pipeline([(\"imp\", SimpleImputer(strategy=\"most_frequent\")), (\"ohe\", ohe)]),          cat_cols)\n",
    "])\n",
    "\n",
    "cv = StratifiedKFold(n_splits=5, shuffle=True, random_state=42)\n",
    "scorer = make_scorer(f1_score)\n",
    "\n",
    "# 1) 모델 정의 \n",
    "from sklearn.linear_model import LogisticRegression, RidgeClassifier\n",
    "from sklearn.ensemble import RandomForestClassifier\n",
    "\n",
    "models = {\n",
    "    \"Logistic(L2)\": LogisticRegression(max_iter=1000, class_weight=\"balanced\", random_state=42),\n",
    "    \"Ridge\":        RidgeClassifier(class_weight=\"balanced\", random_state=42),\n",
    "    \"Lasso(L1)\":    LogisticRegression(penalty=\"l1\", solver=\"liblinear\", class_weight=\"balanced\", random_state=42),\n",
    "    \"RF(depth3)\":   RandomForestClassifier(n_estimators=400, max_depth=3, min_samples_leaf=50,\n",
    "                                           class_weight=\"balanced_subsample\", n_jobs=-1, random_state=42),\n",
    "}\n",
    "\n",
    "# XGBoost\n",
    "try:\n",
    "    from xgboost import XGBClassifier\n",
    "    models[\"XGB(depth3)\"] = XGBClassifier(\n",
    "        n_estimators=600, max_depth=3, min_child_weight=50,\n",
    "        subsample=0.8, colsample_bytree=0.8, learning_rate=0.05,\n",
    "        eval_metric=\"logloss\", random_state=42\n",
    "    )\n",
    "except Exception as e:\n",
    "    print(\"[Info] XGBoost 생략:\", e)\n",
    "\n",
    "# 2) 교차검증 성능 비교 (F1) \n",
    "cv_results = []\n",
    "fitted_pipes = {}\n",
    "for name, clf in models.items():\n",
    "    pipe = Pipeline([(\"pre\", pre), (\"clf\", clf)])\n",
    "    scores = cross_val_score(pipe, X, y, cv=cv, scoring=scorer)\n",
    "    cv_results.append({\"Model\": name, \"F1(mean)\": scores.mean(), \"F1(std)\": scores.std()})\n",
    "    fitted_pipes[name] = pipe  # 템플릿 저장 (아직 fit 안됨)\n",
    "\n",
    "res = pd.DataFrame(cv_results).sort_values(\"F1(mean)\", ascending=False)\n",
    "print(\"CV 성능 (F1)\")\n",
    "print(res)\n",
    "\n",
    "best_name = res.iloc[0][\"Model\"]\n",
    "print(f\"\\n[선택] 최적 모델: {best_name}\")\n",
    "\n",
    "# 3) OOF(폴드 밖) 확률로 임계값 튜닝 \n",
    "# 파이프라인을 OOF 예측으로 실행 (폴드별로 pre/fit 다시 → 누수 방지)\n",
    "best_pipe = fitted_pipes[best_name]\n",
    "if hasattr(models[best_name], \"predict_proba\"):\n",
    "    oof_scores = cross_val_predict(best_pipe, X, y, cv=cv, method=\"predict_proba\")[:, 1]\n",
    "else:\n",
    "    oof_scores = cross_val_predict(best_pipe, X, y, cv=cv, method=\"decision_function\")\n",
    "\n",
    "prec, rec, thr = precision_recall_curve(y, oof_scores)\n",
    "f1s = 2*prec*rec/(prec+rec + 1e-12)\n",
    "best_idx = np.nanargmax(f1s)\n",
    "best_thr = thr[best_idx] if best_idx < len(thr) else 0.5\n",
    "\n",
    "print(f\"\\n[임계값 튜닝] OOF 기준 최적 threshold={best_thr:.3f}, F1={f1s[best_idx]:.4f}, PR-AUC={average_precision_score(y, oof_scores):.4f}, ROC-AUC={roc_auc_score(y, oof_scores):.4f}\")\n",
    "\n",
    "# 4) 전체 train으로 재학습 (최적 모델)\n",
    "best_pipe.fit(X, y)  # 파이프라인: 전처리+모델 함께 저장\n",
    "\n",
    "# ID 확보\n",
    "id_col = next((c for c in [\"CustomerID\"] if c in test.columns), None)\n",
    "X_test = test.drop(columns=[id_col]) if id_col else test\n",
    "\n",
    "# 예측 확률 & 라벨\n",
    "if hasattr(best_pipe.named_steps[\"clf\"], \"predict_proba\"):\n",
    "    test_proba = best_pipe.predict_proba(X_test)[:, 1]\n",
    "else:\n",
    "    # decision_function일 경우 시그모이드 없이 threshold로 직접 컷\n",
    "    test_proba = best_pipe.decision_function(X_test)\n",
    "\n",
    "test_pred = (test_proba >= best_thr).astype(int)\n",
    "\n",
    "out = pd.DataFrame({\n",
    "    id_col if id_col else \"row_id\": test[id_col] if id_col else np.arange(len(test)),\n",
    "    \"churn_proba\": test_proba,\n",
    "    \"churn_pred\":  test_pred\n",
    "})\n",
    "out.to_csv(\"submission.csv\", index=False)\n",
    "print(\"\\n Saved: submission.csv\")"
   ]
  },
  {
   "cell_type": "code",
   "execution_count": null,
   "id": "79007f59",
   "metadata": {},
   "outputs": [],
   "source": []
  }
 ],
 "metadata": {
  "kernelspec": {
   "display_name": "Python 3",
   "language": "python",
   "name": "python3"
  },
  "language_info": {
   "codemirror_mode": {
    "name": "ipython",
    "version": 3
   },
   "file_extension": ".py",
   "mimetype": "text/x-python",
   "name": "python",
   "nbconvert_exporter": "python",
   "pygments_lexer": "ipython3",
   "version": "3.13.2"
  }
 },
 "nbformat": 4,
 "nbformat_minor": 5
}
